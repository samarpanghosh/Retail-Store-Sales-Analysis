{
 "cells": [
  {
   "cell_type": "code",
   "execution_count": 1,
   "id": "6ac58107",
   "metadata": {},
   "outputs": [],
   "source": [
    "import pandas as pd\n",
    "import numpy as np\n",
    "import matplotlib.pyplot as plt\n",
    "import seaborn as sns"
   ]
  },
  {
   "cell_type": "code",
   "execution_count": 2,
   "id": "d6ed586c",
   "metadata": {},
   "outputs": [
    {
     "data": {
      "text/html": [
       "<div>\n",
       "<style scoped>\n",
       "    .dataframe tbody tr th:only-of-type {\n",
       "        vertical-align: middle;\n",
       "    }\n",
       "\n",
       "    .dataframe tbody tr th {\n",
       "        vertical-align: top;\n",
       "    }\n",
       "\n",
       "    .dataframe thead th {\n",
       "        text-align: right;\n",
       "    }\n",
       "</style>\n",
       "<table border=\"1\" class=\"dataframe\">\n",
       "  <thead>\n",
       "    <tr style=\"text-align: right;\">\n",
       "      <th></th>\n",
       "      <th>Member_number</th>\n",
       "      <th>Date</th>\n",
       "      <th>itemDescription</th>\n",
       "    </tr>\n",
       "  </thead>\n",
       "  <tbody>\n",
       "    <tr>\n",
       "      <th>33583</th>\n",
       "      <td>1290</td>\n",
       "      <td>18-02-2014</td>\n",
       "      <td>rice</td>\n",
       "    </tr>\n",
       "    <tr>\n",
       "      <th>35055</th>\n",
       "      <td>2634</td>\n",
       "      <td>22-04-2015</td>\n",
       "      <td>newspapers</td>\n",
       "    </tr>\n",
       "    <tr>\n",
       "      <th>17267</th>\n",
       "      <td>3715</td>\n",
       "      <td>11-05-2015</td>\n",
       "      <td>whole milk</td>\n",
       "    </tr>\n",
       "    <tr>\n",
       "      <th>38430</th>\n",
       "      <td>1006</td>\n",
       "      <td>11-07-2014</td>\n",
       "      <td>skin care</td>\n",
       "    </tr>\n",
       "    <tr>\n",
       "      <th>16599</th>\n",
       "      <td>3598</td>\n",
       "      <td>15-04-2015</td>\n",
       "      <td>UHT-milk</td>\n",
       "    </tr>\n",
       "    <tr>\n",
       "      <th>32643</th>\n",
       "      <td>3430</td>\n",
       "      <td>16-04-2015</td>\n",
       "      <td>hygiene articles</td>\n",
       "    </tr>\n",
       "    <tr>\n",
       "      <th>12152</th>\n",
       "      <td>1881</td>\n",
       "      <td>18-08-2014</td>\n",
       "      <td>soda</td>\n",
       "    </tr>\n",
       "    <tr>\n",
       "      <th>9448</th>\n",
       "      <td>1916</td>\n",
       "      <td>21-05-2014</td>\n",
       "      <td>citrus fruit</td>\n",
       "    </tr>\n",
       "    <tr>\n",
       "      <th>12124</th>\n",
       "      <td>2747</td>\n",
       "      <td>17-09-2014</td>\n",
       "      <td>whole milk</td>\n",
       "    </tr>\n",
       "    <tr>\n",
       "      <th>38470</th>\n",
       "      <td>1506</td>\n",
       "      <td>25-12-2014</td>\n",
       "      <td>oil</td>\n",
       "    </tr>\n",
       "  </tbody>\n",
       "</table>\n",
       "</div>"
      ],
      "text/plain": [
       "       Member_number        Date   itemDescription\n",
       "33583           1290  18-02-2014              rice\n",
       "35055           2634  22-04-2015        newspapers\n",
       "17267           3715  11-05-2015        whole milk\n",
       "38430           1006  11-07-2014         skin care\n",
       "16599           3598  15-04-2015          UHT-milk\n",
       "32643           3430  16-04-2015  hygiene articles\n",
       "12152           1881  18-08-2014              soda\n",
       "9448            1916  21-05-2014      citrus fruit\n",
       "12124           2747  17-09-2014        whole milk\n",
       "38470           1506  25-12-2014               oil"
      ]
     },
     "execution_count": 2,
     "metadata": {},
     "output_type": "execute_result"
    }
   ],
   "source": [
    "df = pd.read_csv('Groceries_dataset.csv')\n",
    "df.sample(10)"
   ]
  },
  {
   "cell_type": "code",
   "execution_count": 3,
   "id": "af1abca6",
   "metadata": {},
   "outputs": [
    {
     "data": {
      "text/html": [
       "<div>\n",
       "<style scoped>\n",
       "    .dataframe tbody tr th:only-of-type {\n",
       "        vertical-align: middle;\n",
       "    }\n",
       "\n",
       "    .dataframe tbody tr th {\n",
       "        vertical-align: top;\n",
       "    }\n",
       "\n",
       "    .dataframe thead th {\n",
       "        text-align: right;\n",
       "    }\n",
       "</style>\n",
       "<table border=\"1\" class=\"dataframe\">\n",
       "  <thead>\n",
       "    <tr style=\"text-align: right;\">\n",
       "      <th></th>\n",
       "      <th>Member_number</th>\n",
       "      <th>Date</th>\n",
       "      <th>itemDescription</th>\n",
       "    </tr>\n",
       "  </thead>\n",
       "  <tbody>\n",
       "    <tr>\n",
       "      <th>0</th>\n",
       "      <td>1808</td>\n",
       "      <td>21-07-2015</td>\n",
       "      <td>tropical fruit</td>\n",
       "    </tr>\n",
       "    <tr>\n",
       "      <th>1</th>\n",
       "      <td>2552</td>\n",
       "      <td>05-01-2015</td>\n",
       "      <td>whole milk</td>\n",
       "    </tr>\n",
       "    <tr>\n",
       "      <th>2</th>\n",
       "      <td>2300</td>\n",
       "      <td>19-09-2015</td>\n",
       "      <td>pip fruit</td>\n",
       "    </tr>\n",
       "    <tr>\n",
       "      <th>3</th>\n",
       "      <td>1187</td>\n",
       "      <td>12-12-2015</td>\n",
       "      <td>other vegetables</td>\n",
       "    </tr>\n",
       "    <tr>\n",
       "      <th>4</th>\n",
       "      <td>3037</td>\n",
       "      <td>01-02-2015</td>\n",
       "      <td>whole milk</td>\n",
       "    </tr>\n",
       "  </tbody>\n",
       "</table>\n",
       "</div>"
      ],
      "text/plain": [
       "   Member_number        Date   itemDescription\n",
       "0           1808  21-07-2015    tropical fruit\n",
       "1           2552  05-01-2015        whole milk\n",
       "2           2300  19-09-2015         pip fruit\n",
       "3           1187  12-12-2015  other vegetables\n",
       "4           3037  01-02-2015        whole milk"
      ]
     },
     "execution_count": 3,
     "metadata": {},
     "output_type": "execute_result"
    }
   ],
   "source": [
    "df.head()"
   ]
  },
  {
   "cell_type": "code",
   "execution_count": 4,
   "id": "ef1f81b6",
   "metadata": {},
   "outputs": [
    {
     "data": {
      "text/plain": [
       "Member_number       int64\n",
       "Date               object\n",
       "itemDescription    object\n",
       "dtype: object"
      ]
     },
     "execution_count": 4,
     "metadata": {},
     "output_type": "execute_result"
    }
   ],
   "source": [
    "df.dtypes"
   ]
  },
  {
   "cell_type": "code",
   "execution_count": 5,
   "id": "2ea1c5b8",
   "metadata": {},
   "outputs": [],
   "source": [
    "df.Date = pd.to_datetime(df.Date)"
   ]
  },
  {
   "cell_type": "code",
   "execution_count": 6,
   "id": "d152468b",
   "metadata": {},
   "outputs": [
    {
     "data": {
      "text/plain": [
       "Member_number               int64\n",
       "Date               datetime64[ns]\n",
       "itemDescription            object\n",
       "dtype: object"
      ]
     },
     "execution_count": 6,
     "metadata": {},
     "output_type": "execute_result"
    }
   ],
   "source": [
    "df.dtypes"
   ]
  },
  {
   "cell_type": "code",
   "execution_count": 7,
   "id": "99238859",
   "metadata": {},
   "outputs": [],
   "source": [
    "df.rename(columns = {\"Member_number\" : \"Customer_ID\" , \"itemDescription\" : \"Item Name\" } , inplace = True)"
   ]
  },
  {
   "cell_type": "code",
   "execution_count": 8,
   "id": "a6a4158d",
   "metadata": {},
   "outputs": [
    {
     "data": {
      "text/plain": [
       "(38765, 3)"
      ]
     },
     "execution_count": 8,
     "metadata": {},
     "output_type": "execute_result"
    }
   ],
   "source": [
    "df.shape"
   ]
  },
  {
   "cell_type": "code",
   "execution_count": 9,
   "id": "382cf48a",
   "metadata": {},
   "outputs": [
    {
     "name": "stdout",
     "output_type": "stream",
     "text": [
      "<class 'pandas.core.frame.DataFrame'>\n",
      "RangeIndex: 38765 entries, 0 to 38764\n",
      "Data columns (total 3 columns):\n",
      " #   Column       Non-Null Count  Dtype         \n",
      "---  ------       --------------  -----         \n",
      " 0   Customer_ID  38765 non-null  int64         \n",
      " 1   Date         38765 non-null  datetime64[ns]\n",
      " 2   Item Name    38765 non-null  object        \n",
      "dtypes: datetime64[ns](1), int64(1), object(1)\n",
      "memory usage: 908.7+ KB\n"
     ]
    }
   ],
   "source": [
    "df.info()"
   ]
  },
  {
   "cell_type": "markdown",
   "id": "5f3673f2",
   "metadata": {},
   "source": [
    "## No null data is present"
   ]
  },
  {
   "cell_type": "markdown",
   "id": "970a1afd",
   "metadata": {},
   "source": [
    "## First transaction in the dataset is recorded at 1st January 2014"
   ]
  },
  {
   "cell_type": "code",
   "execution_count": 10,
   "id": "772a5a6f",
   "metadata": {},
   "outputs": [
    {
     "data": {
      "text/plain": [
       "Customer_ID                   2351\n",
       "Date           2014-01-01 00:00:00\n",
       "Item Name                  cleaner\n",
       "Name: 9132, dtype: object"
      ]
     },
     "execution_count": 10,
     "metadata": {},
     "output_type": "execute_result"
    }
   ],
   "source": [
    "df.iloc[df[\"Date\"].argmin()]"
   ]
  },
  {
   "cell_type": "markdown",
   "id": "737533d0",
   "metadata": {},
   "source": [
    "## Most recent transaction in the dataset is recorded at 30th December 2015"
   ]
  },
  {
   "cell_type": "code",
   "execution_count": 11,
   "id": "15154fbf",
   "metadata": {},
   "outputs": [
    {
     "data": {
      "text/plain": [
       "Customer_ID                   2810\n",
       "Date           2015-12-30 00:00:00\n",
       "Item Name              frankfurter\n",
       "Name: 270, dtype: object"
      ]
     },
     "execution_count": 11,
     "metadata": {},
     "output_type": "execute_result"
    }
   ],
   "source": [
    "df.iloc[df[\"Date\"].argmax()] "
   ]
  },
  {
   "cell_type": "code",
   "execution_count": 12,
   "id": "6b6a47eb",
   "metadata": {},
   "outputs": [
    {
     "data": {
      "text/html": [
       "<div>\n",
       "<style scoped>\n",
       "    .dataframe tbody tr th:only-of-type {\n",
       "        vertical-align: middle;\n",
       "    }\n",
       "\n",
       "    .dataframe tbody tr th {\n",
       "        vertical-align: top;\n",
       "    }\n",
       "\n",
       "    .dataframe thead th {\n",
       "        text-align: right;\n",
       "    }\n",
       "</style>\n",
       "<table border=\"1\" class=\"dataframe\">\n",
       "  <thead>\n",
       "    <tr style=\"text-align: right;\">\n",
       "      <th></th>\n",
       "      <th>Customer_ID</th>\n",
       "      <th>Date</th>\n",
       "      <th>Item Name</th>\n",
       "    </tr>\n",
       "  </thead>\n",
       "  <tbody>\n",
       "    <tr>\n",
       "      <th>15338</th>\n",
       "      <td>1381</td>\n",
       "      <td>2014-01-01</td>\n",
       "      <td>curd</td>\n",
       "    </tr>\n",
       "    <tr>\n",
       "      <th>9172</th>\n",
       "      <td>2226</td>\n",
       "      <td>2014-01-01</td>\n",
       "      <td>sausage</td>\n",
       "    </tr>\n",
       "    <tr>\n",
       "      <th>31684</th>\n",
       "      <td>1659</td>\n",
       "      <td>2014-01-01</td>\n",
       "      <td>frozen vegetables</td>\n",
       "    </tr>\n",
       "    <tr>\n",
       "      <th>13247</th>\n",
       "      <td>2610</td>\n",
       "      <td>2014-01-01</td>\n",
       "      <td>hamburger meat</td>\n",
       "    </tr>\n",
       "    <tr>\n",
       "      <th>13242</th>\n",
       "      <td>3942</td>\n",
       "      <td>2014-01-01</td>\n",
       "      <td>other vegetables</td>\n",
       "    </tr>\n",
       "    <tr>\n",
       "      <th>...</th>\n",
       "      <td>...</td>\n",
       "      <td>...</td>\n",
       "      <td>...</td>\n",
       "    </tr>\n",
       "    <tr>\n",
       "      <th>20822</th>\n",
       "      <td>3579</td>\n",
       "      <td>2015-12-30</td>\n",
       "      <td>herbs</td>\n",
       "    </tr>\n",
       "    <tr>\n",
       "      <th>19048</th>\n",
       "      <td>3562</td>\n",
       "      <td>2015-12-30</td>\n",
       "      <td>ice cream</td>\n",
       "    </tr>\n",
       "    <tr>\n",
       "      <th>34960</th>\n",
       "      <td>3562</td>\n",
       "      <td>2015-12-30</td>\n",
       "      <td>rolls/buns</td>\n",
       "    </tr>\n",
       "    <tr>\n",
       "      <th>17955</th>\n",
       "      <td>1963</td>\n",
       "      <td>2015-12-30</td>\n",
       "      <td>citrus fruit</td>\n",
       "    </tr>\n",
       "    <tr>\n",
       "      <th>3244</th>\n",
       "      <td>2507</td>\n",
       "      <td>2015-12-30</td>\n",
       "      <td>frozen fish</td>\n",
       "    </tr>\n",
       "  </tbody>\n",
       "</table>\n",
       "<p>38765 rows × 3 columns</p>\n",
       "</div>"
      ],
      "text/plain": [
       "       Customer_ID       Date          Item Name\n",
       "15338         1381 2014-01-01               curd\n",
       "9172          2226 2014-01-01            sausage\n",
       "31684         1659 2014-01-01  frozen vegetables\n",
       "13247         2610 2014-01-01     hamburger meat\n",
       "13242         3942 2014-01-01   other vegetables\n",
       "...            ...        ...                ...\n",
       "20822         3579 2015-12-30              herbs\n",
       "19048         3562 2015-12-30          ice cream\n",
       "34960         3562 2015-12-30         rolls/buns\n",
       "17955         1963 2015-12-30       citrus fruit\n",
       "3244          2507 2015-12-30        frozen fish\n",
       "\n",
       "[38765 rows x 3 columns]"
      ]
     },
     "execution_count": 12,
     "metadata": {},
     "output_type": "execute_result"
    }
   ],
   "source": [
    "# To confirm the starting date or ending date we can sort by dates as well\n",
    "\n",
    "df.sort_values(by = 'Date')"
   ]
  },
  {
   "cell_type": "code",
   "execution_count": 13,
   "id": "74d9246f",
   "metadata": {},
   "outputs": [
    {
     "data": {
      "text/plain": [
       "Timedelta('-728 days +00:00:00')"
      ]
     },
     "execution_count": 13,
     "metadata": {},
     "output_type": "execute_result"
    }
   ],
   "source": [
    "df['Date'].min() - df['Date'].max()\n",
    "\n",
    "# That is we have almost 2 years worth of data\n",
    "# Interesting Observation - Store has been closed for just 2 days in this span of 2 years or there is no data for 2 days"
   ]
  },
  {
   "cell_type": "markdown",
   "id": "2304c46d",
   "metadata": {},
   "source": [
    "## Different Insights that come to mind\n",
    "### 1. Overall sales trend for the enitire dataset\n",
    "### 2. Monthly Sales -- Best month for sales\n",
    "### 3. Weekly Sales -- Best Week for sales -- Or best day for sales -{Monday to Sunday -- which is the best day for sales??}\n",
    "### 4. Top 10 Customers who spent the most.\n",
    "### 5. Top 10 sold products\n",
    "### 6. Buying frequency -- A.K.A. how often a customer comes to the store and buys an Item.\n",
    "### 7. Number of unique items in the store\n",
    "### 8. Number of unqiue customers"
   ]
  },
  {
   "cell_type": "code",
   "execution_count": 14,
   "id": "e837cd15",
   "metadata": {},
   "outputs": [
    {
     "data": {
      "text/html": [
       "<div>\n",
       "<style scoped>\n",
       "    .dataframe tbody tr th:only-of-type {\n",
       "        vertical-align: middle;\n",
       "    }\n",
       "\n",
       "    .dataframe tbody tr th {\n",
       "        vertical-align: top;\n",
       "    }\n",
       "\n",
       "    .dataframe thead th {\n",
       "        text-align: right;\n",
       "    }\n",
       "</style>\n",
       "<table border=\"1\" class=\"dataframe\">\n",
       "  <thead>\n",
       "    <tr style=\"text-align: right;\">\n",
       "      <th></th>\n",
       "      <th>Customer_ID</th>\n",
       "      <th>Date</th>\n",
       "      <th>Item Name</th>\n",
       "    </tr>\n",
       "  </thead>\n",
       "  <tbody>\n",
       "    <tr>\n",
       "      <th>0</th>\n",
       "      <td>1808</td>\n",
       "      <td>2015-07-21</td>\n",
       "      <td>tropical fruit</td>\n",
       "    </tr>\n",
       "    <tr>\n",
       "      <th>1</th>\n",
       "      <td>2552</td>\n",
       "      <td>2015-05-01</td>\n",
       "      <td>whole milk</td>\n",
       "    </tr>\n",
       "    <tr>\n",
       "      <th>2</th>\n",
       "      <td>2300</td>\n",
       "      <td>2015-09-19</td>\n",
       "      <td>pip fruit</td>\n",
       "    </tr>\n",
       "    <tr>\n",
       "      <th>3</th>\n",
       "      <td>1187</td>\n",
       "      <td>2015-12-12</td>\n",
       "      <td>other vegetables</td>\n",
       "    </tr>\n",
       "    <tr>\n",
       "      <th>4</th>\n",
       "      <td>3037</td>\n",
       "      <td>2015-01-02</td>\n",
       "      <td>whole milk</td>\n",
       "    </tr>\n",
       "    <tr>\n",
       "      <th>...</th>\n",
       "      <td>...</td>\n",
       "      <td>...</td>\n",
       "      <td>...</td>\n",
       "    </tr>\n",
       "    <tr>\n",
       "      <th>38760</th>\n",
       "      <td>4471</td>\n",
       "      <td>2014-08-10</td>\n",
       "      <td>sliced cheese</td>\n",
       "    </tr>\n",
       "    <tr>\n",
       "      <th>38761</th>\n",
       "      <td>2022</td>\n",
       "      <td>2014-02-23</td>\n",
       "      <td>candy</td>\n",
       "    </tr>\n",
       "    <tr>\n",
       "      <th>38762</th>\n",
       "      <td>1097</td>\n",
       "      <td>2014-04-16</td>\n",
       "      <td>cake bar</td>\n",
       "    </tr>\n",
       "    <tr>\n",
       "      <th>38763</th>\n",
       "      <td>1510</td>\n",
       "      <td>2014-03-12</td>\n",
       "      <td>fruit/vegetable juice</td>\n",
       "    </tr>\n",
       "    <tr>\n",
       "      <th>38764</th>\n",
       "      <td>1521</td>\n",
       "      <td>2014-12-26</td>\n",
       "      <td>cat food</td>\n",
       "    </tr>\n",
       "  </tbody>\n",
       "</table>\n",
       "<p>38765 rows × 3 columns</p>\n",
       "</div>"
      ],
      "text/plain": [
       "       Customer_ID       Date              Item Name\n",
       "0             1808 2015-07-21         tropical fruit\n",
       "1             2552 2015-05-01             whole milk\n",
       "2             2300 2015-09-19              pip fruit\n",
       "3             1187 2015-12-12       other vegetables\n",
       "4             3037 2015-01-02             whole milk\n",
       "...            ...        ...                    ...\n",
       "38760         4471 2014-08-10          sliced cheese\n",
       "38761         2022 2014-02-23                  candy\n",
       "38762         1097 2014-04-16               cake bar\n",
       "38763         1510 2014-03-12  fruit/vegetable juice\n",
       "38764         1521 2014-12-26               cat food\n",
       "\n",
       "[38765 rows x 3 columns]"
      ]
     },
     "execution_count": 14,
     "metadata": {},
     "output_type": "execute_result"
    }
   ],
   "source": [
    "df"
   ]
  },
  {
   "cell_type": "markdown",
   "id": "6de897a8",
   "metadata": {},
   "source": [
    "## Q-8.    Number of unique customers in the dataset"
   ]
  },
  {
   "cell_type": "code",
   "execution_count": 15,
   "id": "9e3f34cf",
   "metadata": {},
   "outputs": [
    {
     "data": {
      "text/plain": [
       "array([1808, 2552, 2300, ..., 3607, 4587, 2417], dtype=int64)"
      ]
     },
     "execution_count": 15,
     "metadata": {},
     "output_type": "execute_result"
    }
   ],
   "source": [
    "# .unique() returns a series with all the unique customer id\n",
    "\n",
    "df.Customer_ID.unique()"
   ]
  },
  {
   "cell_type": "code",
   "execution_count": 16,
   "id": "2d0c5499",
   "metadata": {},
   "outputs": [
    {
     "data": {
      "text/plain": [
       "3898"
      ]
     },
     "execution_count": 16,
     "metadata": {},
     "output_type": "execute_result"
    }
   ],
   "source": [
    "len(df.Customer_ID.unique())"
   ]
  },
  {
   "cell_type": "code",
   "execution_count": 17,
   "id": "ad860fbb",
   "metadata": {},
   "outputs": [
    {
     "data": {
      "text/plain": [
       "3898"
      ]
     },
     "execution_count": 17,
     "metadata": {},
     "output_type": "execute_result"
    }
   ],
   "source": [
    "# We can use nunique() instead -- This method excludes Null data by default\n",
    "\n",
    "df.Customer_ID.nunique()"
   ]
  },
  {
   "cell_type": "code",
   "execution_count": null,
   "id": "de8012c0",
   "metadata": {},
   "outputs": [],
   "source": []
  },
  {
   "cell_type": "markdown",
   "id": "b4432119",
   "metadata": {},
   "source": [
    "### Creating a data frame where we use the Date column as our index"
   ]
  },
  {
   "cell_type": "code",
   "execution_count": 18,
   "id": "93b721aa",
   "metadata": {},
   "outputs": [
    {
     "data": {
      "text/html": [
       "<div>\n",
       "<style scoped>\n",
       "    .dataframe tbody tr th:only-of-type {\n",
       "        vertical-align: middle;\n",
       "    }\n",
       "\n",
       "    .dataframe tbody tr th {\n",
       "        vertical-align: top;\n",
       "    }\n",
       "\n",
       "    .dataframe thead th {\n",
       "        text-align: right;\n",
       "    }\n",
       "</style>\n",
       "<table border=\"1\" class=\"dataframe\">\n",
       "  <thead>\n",
       "    <tr style=\"text-align: right;\">\n",
       "      <th></th>\n",
       "      <th>Customer_ID</th>\n",
       "      <th>Item Name</th>\n",
       "    </tr>\n",
       "    <tr>\n",
       "      <th>Date</th>\n",
       "      <th></th>\n",
       "      <th></th>\n",
       "    </tr>\n",
       "  </thead>\n",
       "  <tbody>\n",
       "    <tr>\n",
       "      <th>2015-07-21</th>\n",
       "      <td>1808</td>\n",
       "      <td>tropical fruit</td>\n",
       "    </tr>\n",
       "    <tr>\n",
       "      <th>2015-05-01</th>\n",
       "      <td>2552</td>\n",
       "      <td>whole milk</td>\n",
       "    </tr>\n",
       "    <tr>\n",
       "      <th>2015-09-19</th>\n",
       "      <td>2300</td>\n",
       "      <td>pip fruit</td>\n",
       "    </tr>\n",
       "    <tr>\n",
       "      <th>2015-12-12</th>\n",
       "      <td>1187</td>\n",
       "      <td>other vegetables</td>\n",
       "    </tr>\n",
       "    <tr>\n",
       "      <th>2015-01-02</th>\n",
       "      <td>3037</td>\n",
       "      <td>whole milk</td>\n",
       "    </tr>\n",
       "    <tr>\n",
       "      <th>...</th>\n",
       "      <td>...</td>\n",
       "      <td>...</td>\n",
       "    </tr>\n",
       "    <tr>\n",
       "      <th>2014-08-10</th>\n",
       "      <td>4471</td>\n",
       "      <td>sliced cheese</td>\n",
       "    </tr>\n",
       "    <tr>\n",
       "      <th>2014-02-23</th>\n",
       "      <td>2022</td>\n",
       "      <td>candy</td>\n",
       "    </tr>\n",
       "    <tr>\n",
       "      <th>2014-04-16</th>\n",
       "      <td>1097</td>\n",
       "      <td>cake bar</td>\n",
       "    </tr>\n",
       "    <tr>\n",
       "      <th>2014-03-12</th>\n",
       "      <td>1510</td>\n",
       "      <td>fruit/vegetable juice</td>\n",
       "    </tr>\n",
       "    <tr>\n",
       "      <th>2014-12-26</th>\n",
       "      <td>1521</td>\n",
       "      <td>cat food</td>\n",
       "    </tr>\n",
       "  </tbody>\n",
       "</table>\n",
       "<p>38765 rows × 2 columns</p>\n",
       "</div>"
      ],
      "text/plain": [
       "            Customer_ID              Item Name\n",
       "Date                                          \n",
       "2015-07-21         1808         tropical fruit\n",
       "2015-05-01         2552             whole milk\n",
       "2015-09-19         2300              pip fruit\n",
       "2015-12-12         1187       other vegetables\n",
       "2015-01-02         3037             whole milk\n",
       "...                 ...                    ...\n",
       "2014-08-10         4471          sliced cheese\n",
       "2014-02-23         2022                  candy\n",
       "2014-04-16         1097               cake bar\n",
       "2014-03-12         1510  fruit/vegetable juice\n",
       "2014-12-26         1521               cat food\n",
       "\n",
       "[38765 rows x 2 columns]"
      ]
     },
     "execution_count": 18,
     "metadata": {},
     "output_type": "execute_result"
    }
   ],
   "source": [
    "df_date = df.set_index('Date')\n",
    "df_date"
   ]
  },
  {
   "cell_type": "code",
   "execution_count": 19,
   "id": "a30f33b2",
   "metadata": {},
   "outputs": [
    {
     "data": {
      "text/html": [
       "<div>\n",
       "<style scoped>\n",
       "    .dataframe tbody tr th:only-of-type {\n",
       "        vertical-align: middle;\n",
       "    }\n",
       "\n",
       "    .dataframe tbody tr th {\n",
       "        vertical-align: top;\n",
       "    }\n",
       "\n",
       "    .dataframe thead th {\n",
       "        text-align: right;\n",
       "    }\n",
       "</style>\n",
       "<table border=\"1\" class=\"dataframe\">\n",
       "  <thead>\n",
       "    <tr style=\"text-align: right;\">\n",
       "      <th></th>\n",
       "      <th>Customer_ID</th>\n",
       "      <th>Item Name</th>\n",
       "    </tr>\n",
       "    <tr>\n",
       "      <th>Date</th>\n",
       "      <th></th>\n",
       "      <th></th>\n",
       "    </tr>\n",
       "  </thead>\n",
       "  <tbody>\n",
       "    <tr>\n",
       "      <th>2014-01-10</th>\n",
       "      <td>1664</td>\n",
       "      <td>rolls/buns</td>\n",
       "    </tr>\n",
       "    <tr>\n",
       "      <th>2014-12-16</th>\n",
       "      <td>3942</td>\n",
       "      <td>hamburger meat</td>\n",
       "    </tr>\n",
       "    <tr>\n",
       "      <th>2014-10-10</th>\n",
       "      <td>2638</td>\n",
       "      <td>turkey</td>\n",
       "    </tr>\n",
       "    <tr>\n",
       "      <th>2014-10-10</th>\n",
       "      <td>4735</td>\n",
       "      <td>specialty chocolate</td>\n",
       "    </tr>\n",
       "    <tr>\n",
       "      <th>2014-09-12</th>\n",
       "      <td>3745</td>\n",
       "      <td>frankfurter</td>\n",
       "    </tr>\n",
       "    <tr>\n",
       "      <th>...</th>\n",
       "      <td>...</td>\n",
       "      <td>...</td>\n",
       "    </tr>\n",
       "    <tr>\n",
       "      <th>2014-08-10</th>\n",
       "      <td>4471</td>\n",
       "      <td>sliced cheese</td>\n",
       "    </tr>\n",
       "    <tr>\n",
       "      <th>2014-02-23</th>\n",
       "      <td>2022</td>\n",
       "      <td>candy</td>\n",
       "    </tr>\n",
       "    <tr>\n",
       "      <th>2014-04-16</th>\n",
       "      <td>1097</td>\n",
       "      <td>cake bar</td>\n",
       "    </tr>\n",
       "    <tr>\n",
       "      <th>2014-03-12</th>\n",
       "      <td>1510</td>\n",
       "      <td>fruit/vegetable juice</td>\n",
       "    </tr>\n",
       "    <tr>\n",
       "      <th>2014-12-26</th>\n",
       "      <td>1521</td>\n",
       "      <td>cat food</td>\n",
       "    </tr>\n",
       "  </tbody>\n",
       "</table>\n",
       "<p>18277 rows × 2 columns</p>\n",
       "</div>"
      ],
      "text/plain": [
       "            Customer_ID              Item Name\n",
       "Date                                          \n",
       "2014-01-10         1664             rolls/buns\n",
       "2014-12-16         3942         hamburger meat\n",
       "2014-10-10         2638                 turkey\n",
       "2014-10-10         4735    specialty chocolate\n",
       "2014-09-12         3745            frankfurter\n",
       "...                 ...                    ...\n",
       "2014-08-10         4471          sliced cheese\n",
       "2014-02-23         2022                  candy\n",
       "2014-04-16         1097               cake bar\n",
       "2014-03-12         1510  fruit/vegetable juice\n",
       "2014-12-26         1521               cat food\n",
       "\n",
       "[18277 rows x 2 columns]"
      ]
     },
     "execution_count": 19,
     "metadata": {},
     "output_type": "execute_result"
    }
   ],
   "source": [
    "# This gives our 2014 data\n",
    "\n",
    "df_date.loc['2014']"
   ]
  },
  {
   "cell_type": "code",
   "execution_count": 20,
   "id": "88bb55cd",
   "metadata": {},
   "outputs": [
    {
     "data": {
      "text/html": [
       "<div>\n",
       "<style scoped>\n",
       "    .dataframe tbody tr th:only-of-type {\n",
       "        vertical-align: middle;\n",
       "    }\n",
       "\n",
       "    .dataframe tbody tr th {\n",
       "        vertical-align: top;\n",
       "    }\n",
       "\n",
       "    .dataframe thead th {\n",
       "        text-align: right;\n",
       "    }\n",
       "</style>\n",
       "<table border=\"1\" class=\"dataframe\">\n",
       "  <thead>\n",
       "    <tr style=\"text-align: right;\">\n",
       "      <th></th>\n",
       "      <th>Customer_ID</th>\n",
       "      <th>Item Name</th>\n",
       "    </tr>\n",
       "    <tr>\n",
       "      <th>Date</th>\n",
       "      <th></th>\n",
       "      <th></th>\n",
       "    </tr>\n",
       "  </thead>\n",
       "  <tbody>\n",
       "    <tr>\n",
       "      <th>2015-07-21</th>\n",
       "      <td>1808</td>\n",
       "      <td>tropical fruit</td>\n",
       "    </tr>\n",
       "    <tr>\n",
       "      <th>2015-05-01</th>\n",
       "      <td>2552</td>\n",
       "      <td>whole milk</td>\n",
       "    </tr>\n",
       "    <tr>\n",
       "      <th>2015-09-19</th>\n",
       "      <td>2300</td>\n",
       "      <td>pip fruit</td>\n",
       "    </tr>\n",
       "    <tr>\n",
       "      <th>2015-12-12</th>\n",
       "      <td>1187</td>\n",
       "      <td>other vegetables</td>\n",
       "    </tr>\n",
       "    <tr>\n",
       "      <th>2015-01-02</th>\n",
       "      <td>3037</td>\n",
       "      <td>whole milk</td>\n",
       "    </tr>\n",
       "    <tr>\n",
       "      <th>...</th>\n",
       "      <td>...</td>\n",
       "      <td>...</td>\n",
       "    </tr>\n",
       "    <tr>\n",
       "      <th>2015-08-24</th>\n",
       "      <td>1185</td>\n",
       "      <td>chocolate</td>\n",
       "    </tr>\n",
       "    <tr>\n",
       "      <th>2015-12-25</th>\n",
       "      <td>4656</td>\n",
       "      <td>newspapers</td>\n",
       "    </tr>\n",
       "    <tr>\n",
       "      <th>2015-11-09</th>\n",
       "      <td>2741</td>\n",
       "      <td>canned vegetables</td>\n",
       "    </tr>\n",
       "    <tr>\n",
       "      <th>2015-08-17</th>\n",
       "      <td>2654</td>\n",
       "      <td>coffee</td>\n",
       "    </tr>\n",
       "    <tr>\n",
       "      <th>2015-12-19</th>\n",
       "      <td>2010</td>\n",
       "      <td>waffles</td>\n",
       "    </tr>\n",
       "  </tbody>\n",
       "</table>\n",
       "<p>20488 rows × 2 columns</p>\n",
       "</div>"
      ],
      "text/plain": [
       "            Customer_ID          Item Name\n",
       "Date                                      \n",
       "2015-07-21         1808     tropical fruit\n",
       "2015-05-01         2552         whole milk\n",
       "2015-09-19         2300          pip fruit\n",
       "2015-12-12         1187   other vegetables\n",
       "2015-01-02         3037         whole milk\n",
       "...                 ...                ...\n",
       "2015-08-24         1185          chocolate\n",
       "2015-12-25         4656         newspapers\n",
       "2015-11-09         2741  canned vegetables\n",
       "2015-08-17         2654             coffee\n",
       "2015-12-19         2010            waffles\n",
       "\n",
       "[20488 rows x 2 columns]"
      ]
     },
     "execution_count": 20,
     "metadata": {},
     "output_type": "execute_result"
    }
   ],
   "source": [
    "# This gives our 2015 data\n",
    "\n",
    "df_date.loc['2015']"
   ]
  },
  {
   "cell_type": "code",
   "execution_count": 21,
   "id": "f5b435d2",
   "metadata": {},
   "outputs": [
    {
     "data": {
      "text/html": [
       "<div>\n",
       "<style scoped>\n",
       "    .dataframe tbody tr th:only-of-type {\n",
       "        vertical-align: middle;\n",
       "    }\n",
       "\n",
       "    .dataframe tbody tr th {\n",
       "        vertical-align: top;\n",
       "    }\n",
       "\n",
       "    .dataframe thead th {\n",
       "        text-align: right;\n",
       "    }\n",
       "</style>\n",
       "<table border=\"1\" class=\"dataframe\">\n",
       "  <thead>\n",
       "    <tr style=\"text-align: right;\">\n",
       "      <th></th>\n",
       "      <th>Customer_ID</th>\n",
       "      <th>Date</th>\n",
       "      <th>Item Name</th>\n",
       "    </tr>\n",
       "  </thead>\n",
       "  <tbody>\n",
       "    <tr>\n",
       "      <th>0</th>\n",
       "      <td>1808</td>\n",
       "      <td>2015-07-21</td>\n",
       "      <td>tropical fruit</td>\n",
       "    </tr>\n",
       "    <tr>\n",
       "      <th>1</th>\n",
       "      <td>2552</td>\n",
       "      <td>2015-05-01</td>\n",
       "      <td>whole milk</td>\n",
       "    </tr>\n",
       "    <tr>\n",
       "      <th>2</th>\n",
       "      <td>2300</td>\n",
       "      <td>2015-09-19</td>\n",
       "      <td>pip fruit</td>\n",
       "    </tr>\n",
       "    <tr>\n",
       "      <th>3</th>\n",
       "      <td>1187</td>\n",
       "      <td>2015-12-12</td>\n",
       "      <td>other vegetables</td>\n",
       "    </tr>\n",
       "    <tr>\n",
       "      <th>4</th>\n",
       "      <td>3037</td>\n",
       "      <td>2015-01-02</td>\n",
       "      <td>whole milk</td>\n",
       "    </tr>\n",
       "    <tr>\n",
       "      <th>...</th>\n",
       "      <td>...</td>\n",
       "      <td>...</td>\n",
       "      <td>...</td>\n",
       "    </tr>\n",
       "    <tr>\n",
       "      <th>38760</th>\n",
       "      <td>4471</td>\n",
       "      <td>2014-08-10</td>\n",
       "      <td>sliced cheese</td>\n",
       "    </tr>\n",
       "    <tr>\n",
       "      <th>38761</th>\n",
       "      <td>2022</td>\n",
       "      <td>2014-02-23</td>\n",
       "      <td>candy</td>\n",
       "    </tr>\n",
       "    <tr>\n",
       "      <th>38762</th>\n",
       "      <td>1097</td>\n",
       "      <td>2014-04-16</td>\n",
       "      <td>cake bar</td>\n",
       "    </tr>\n",
       "    <tr>\n",
       "      <th>38763</th>\n",
       "      <td>1510</td>\n",
       "      <td>2014-03-12</td>\n",
       "      <td>fruit/vegetable juice</td>\n",
       "    </tr>\n",
       "    <tr>\n",
       "      <th>38764</th>\n",
       "      <td>1521</td>\n",
       "      <td>2014-12-26</td>\n",
       "      <td>cat food</td>\n",
       "    </tr>\n",
       "  </tbody>\n",
       "</table>\n",
       "<p>38765 rows × 3 columns</p>\n",
       "</div>"
      ],
      "text/plain": [
       "       Customer_ID       Date              Item Name\n",
       "0             1808 2015-07-21         tropical fruit\n",
       "1             2552 2015-05-01             whole milk\n",
       "2             2300 2015-09-19              pip fruit\n",
       "3             1187 2015-12-12       other vegetables\n",
       "4             3037 2015-01-02             whole milk\n",
       "...            ...        ...                    ...\n",
       "38760         4471 2014-08-10          sliced cheese\n",
       "38761         2022 2014-02-23                  candy\n",
       "38762         1097 2014-04-16               cake bar\n",
       "38763         1510 2014-03-12  fruit/vegetable juice\n",
       "38764         1521 2014-12-26               cat food\n",
       "\n",
       "[38765 rows x 3 columns]"
      ]
     },
     "execution_count": 21,
     "metadata": {},
     "output_type": "execute_result"
    }
   ],
   "source": [
    "df"
   ]
  },
  {
   "cell_type": "code",
   "execution_count": 22,
   "id": "27510f98",
   "metadata": {},
   "outputs": [
    {
     "data": {
      "text/plain": [
       "Date\n",
       "2014-01-01    48\n",
       "2014-01-02    62\n",
       "2014-01-03    54\n",
       "2014-01-04    64\n",
       "2014-01-05    44\n",
       "              ..\n",
       "2015-12-26    37\n",
       "2015-12-27    74\n",
       "2015-12-28    58\n",
       "2015-12-29    57\n",
       "2015-12-30    53\n",
       "Name: Item Name, Length: 728, dtype: int64"
      ]
     },
     "execution_count": 22,
     "metadata": {},
     "output_type": "execute_result"
    }
   ],
   "source": [
    "# Gives the total quantities sold per day --- Daily Sales\n",
    "\n",
    "req = df_date.groupby('Date')['Item Name'].size()\n",
    "req"
   ]
  },
  {
   "cell_type": "code",
   "execution_count": 23,
   "id": "5c6a1eef",
   "metadata": {},
   "outputs": [
    {
     "data": {
      "text/plain": [
       "<AxesSubplot:xlabel='Date'>"
      ]
     },
     "execution_count": 23,
     "metadata": {},
     "output_type": "execute_result"
    },
    {
     "data": {
      "image/png": "[encoded data removed]",
      "text/plain": [
       "<Figure size 1152x720 with 1 Axes>"
      ]
     },
     "metadata": {
      "needs_background": "light"
     },
     "output_type": "display_data"
    }
   ],
   "source": [
    "plt.figure(figsize=(16, 10))\n",
    "req.plot()"
   ]
  },
  {
   "cell_type": "code",
   "execution_count": null,
   "id": "b9829598",
   "metadata": {},
   "outputs": [],
   "source": []
  },
  {
   "cell_type": "markdown",
   "id": "41a504ac",
   "metadata": {},
   "source": [
    "## Total unique customers by month"
   ]
  },
  {
   "cell_type": "code",
   "execution_count": null,
   "id": "bb0e6395",
   "metadata": {},
   "outputs": [],
   "source": []
  },
  {
   "cell_type": "markdown",
   "id": "3f95cdfd",
   "metadata": {},
   "source": [
    "## Q-1. Overall sales trend for the enitire dataset"
   ]
  },
  {
   "cell_type": "code",
   "execution_count": null,
   "id": "d0f974ce",
   "metadata": {},
   "outputs": [],
   "source": []
  },
  {
   "cell_type": "markdown",
   "id": "707c3fc1",
   "metadata": {},
   "source": [
    "## Weekly Sales"
   ]
  },
  {
   "cell_type": "code",
   "execution_count": 24,
   "id": "0a7446e5",
   "metadata": {},
   "outputs": [],
   "source": [
    "# Weekly Sales\n",
    "\n",
    "Sales_weekly = df.resample('w', on='Date').size()"
   ]
  },
  {
   "cell_type": "code",
   "execution_count": 25,
   "id": "9e70ec7b",
   "metadata": {},
   "outputs": [
    {
     "data": {
      "text/plain": [
       "pandas.core.series.Series"
      ]
     },
     "execution_count": 25,
     "metadata": {},
     "output_type": "execute_result"
    }
   ],
   "source": [
    "type(Sales_weekly)"
   ]
  },
  {
   "cell_type": "code",
   "execution_count": 26,
   "id": "ded1d3c5",
   "metadata": {},
   "outputs": [
    {
     "data": {
      "text/plain": [
       "Date\n",
       "2014-01-05    272\n",
       "2014-01-12    311\n",
       "2014-01-19    320\n",
       "2014-01-26    331\n",
       "2014-02-02    369\n",
       "             ... \n",
       "2015-12-06    390\n",
       "2015-12-13    356\n",
       "2015-12-20    360\n",
       "2015-12-27    341\n",
       "2016-01-03    168\n",
       "Freq: W-SUN, Length: 105, dtype: int64"
      ]
     },
     "execution_count": 26,
     "metadata": {},
     "output_type": "execute_result"
    }
   ],
   "source": [
    "Sales_weekly"
   ]
  },
  {
   "cell_type": "code",
   "execution_count": 27,
   "id": "576598de",
   "metadata": {},
   "outputs": [
    {
     "data": {
      "text/plain": [
       "array([272, 311, 320, 331, 369, 441, 357, 362, 395, 379, 328, 289, 342,\n",
       "       359, 328, 374, 363, 316, 371, 341, 347, 438, 356, 355, 362, 346,\n",
       "       348, 407, 334, 371, 350, 353, 363, 317, 361, 311, 312, 312, 331,\n",
       "       251, 404, 355, 336, 389, 349, 378, 339, 334, 369, 346, 346, 365,\n",
       "       362, 354, 404, 444, 394, 383, 356, 336, 449, 410, 455, 351, 397,\n",
       "       350, 408, 382, 372, 456, 343, 405, 400, 365, 393, 424, 440, 421,\n",
       "       377, 337, 336, 401, 399, 494, 439, 479, 412, 371, 375, 339, 354,\n",
       "       434, 439, 360, 346, 363, 371, 442, 370, 475, 390, 356, 360, 341,\n",
       "       168], dtype=int64)"
      ]
     },
     "execution_count": 27,
     "metadata": {},
     "output_type": "execute_result"
    }
   ],
   "source": [
    "Sales_weekly.values"
   ]
  },
  {
   "cell_type": "code",
   "execution_count": 28,
   "id": "a87e08b0",
   "metadata": {},
   "outputs": [],
   "source": [
    "x1 = Sales_weekly.values"
   ]
  },
  {
   "cell_type": "code",
   "execution_count": 29,
   "id": "642206fe",
   "metadata": {},
   "outputs": [
    {
     "data": {
      "text/plain": [
       "Date\n",
       "2014-01-05    272\n",
       "2014-01-12    311\n",
       "2014-01-19    320\n",
       "2014-01-26    331\n",
       "2014-02-02    369\n",
       "             ... \n",
       "2015-12-06    390\n",
       "2015-12-13    356\n",
       "2015-12-20    360\n",
       "2015-12-27    341\n",
       "2016-01-03    168\n",
       "Freq: W-SUN, Name: Item Name, Length: 105, dtype: int64"
      ]
     },
     "execution_count": 29,
     "metadata": {},
     "output_type": "execute_result"
    }
   ],
   "source": [
    "# We can also write like this\n",
    "\n",
    "# We mention the column name and the aggregate function we want to perform on it\n",
    "\n",
    "sales_weekly1 = df.resample('w', on='Date')['Item Name'].count()  \n",
    "    \n",
    "sales_weekly1"
   ]
  },
  {
   "cell_type": "code",
   "execution_count": 30,
   "id": "294eb90e",
   "metadata": {},
   "outputs": [
    {
     "data": {
      "text/plain": [
       "Date\n",
       "2014-01-05    272\n",
       "2014-01-12    311\n",
       "2014-01-19    320\n",
       "2014-01-26    331\n",
       "2014-02-02    369\n",
       "             ... \n",
       "2015-12-06    390\n",
       "2015-12-13    356\n",
       "2015-12-20    360\n",
       "2015-12-27    341\n",
       "2016-01-03    168\n",
       "Freq: W-SUN, Name: Item Name, Length: 105, dtype: int64"
      ]
     },
     "execution_count": 30,
     "metadata": {},
     "output_type": "execute_result"
    }
   ],
   "source": [
    "sales_weekly2 = df.resample('w', on='Date')['Item Name'].size()\n",
    "sales_weekly2"
   ]
  },
  {
   "cell_type": "code",
   "execution_count": 31,
   "id": "22260638",
   "metadata": {},
   "outputs": [
    {
     "data": {
      "text/plain": [
       "Date\n",
       "2014-01-05    cleanersausagetropical fruitwhole milkcitrus f...\n",
       "2014-01-12    citrus fruitporknapkinsoilbottled beerbottled ...\n",
       "2014-01-19    photo/filmwhole milkporksodawhole milkseasonal...\n",
       "2014-01-26    porksausagepastryporkwhole milkmeatcoffeepastr...\n",
       "2014-02-02    candyhamburger meatwhole milkhamburger meatroo...\n",
       "                                    ...                        \n",
       "2015-12-06    tropical fruitbottled watermeatcoffeeroot vege...\n",
       "2015-12-13    butterother vegetablesfrozen fishpip fruitbeve...\n",
       "2015-12-20    sausagecurdherbsshopping bagstropical fruitwho...\n",
       "2015-12-27    bottled wateryogurtsodasausagerolls/bunsbottle...\n",
       "2016-01-03    onionsroot vegetablescitrus fruitrolls/bunsham...\n",
       "Freq: W-SUN, Name: Item Name, Length: 105, dtype: object"
      ]
     },
     "execution_count": 31,
     "metadata": {},
     "output_type": "execute_result"
    }
   ],
   "source": [
    "# This concatenates the Item Names\n",
    "\n",
    "sales_weekly3 = df.resample('w', on='Date')['Item Name'].sum()\n",
    "sales_weekly3"
   ]
  },
  {
   "cell_type": "code",
   "execution_count": 32,
   "id": "f80fdbe2",
   "metadata": {},
   "outputs": [
    {
     "data": {
      "text/plain": [
       "<AxesSubplot:xlabel='Date'>"
      ]
     },
     "execution_count": 32,
     "metadata": {},
     "output_type": "execute_result"
    },
    {
     "data": {
      "image/png": "[encoded data removed]",
      "text/plain": [
       "<Figure size 1152x720 with 1 Axes>"
      ]
     },
     "metadata": {
      "needs_background": "light"
     },
     "output_type": "display_data"
    }
   ],
   "source": [
    "plt.figure(figsize=(16, 10))\n",
    "Sales_weekly.plot()"
   ]
  },
  {
   "cell_type": "code",
   "execution_count": null,
   "id": "aad0786e",
   "metadata": {},
   "outputs": [],
   "source": []
  },
  {
   "cell_type": "markdown",
   "id": "6cd6533e",
   "metadata": {},
   "source": [
    "## Number of new weekly customers\n",
    "### Method 1 - using resample"
   ]
  },
  {
   "cell_type": "code",
   "execution_count": 33,
   "id": "7253096f",
   "metadata": {},
   "outputs": [],
   "source": [
    "Unique_customer_weekly = df.resample('w', on='Date').Customer_ID.nunique()"
   ]
  },
  {
   "cell_type": "code",
   "execution_count": 34,
   "id": "59708c8f",
   "metadata": {},
   "outputs": [
    {
     "data": {
      "text/plain": [
       "Date\n",
       "2014-01-05    121\n",
       "2014-01-12    132\n",
       "2014-01-19    139\n",
       "2014-01-26    146\n",
       "2014-02-02    160\n",
       "             ... \n",
       "2015-12-06    123\n",
       "2015-12-13    115\n",
       "2015-12-20    129\n",
       "2015-12-27    116\n",
       "2016-01-03     60\n",
       "Freq: W-SUN, Name: Customer_ID, Length: 105, dtype: int64"
      ]
     },
     "execution_count": 34,
     "metadata": {},
     "output_type": "execute_result"
    }
   ],
   "source": [
    "Unique_customer_weekly"
   ]
  },
  {
   "cell_type": "code",
   "execution_count": 35,
   "id": "fa7446c7",
   "metadata": {},
   "outputs": [],
   "source": [
    "x2 = Unique_customer_weekly.values"
   ]
  },
  {
   "cell_type": "code",
   "execution_count": 36,
   "id": "e970af02",
   "metadata": {},
   "outputs": [
    {
     "name": "stdout",
     "output_type": "stream",
     "text": [
      "Date        Customer_ID\n",
      "2014-01-05  2480           5\n",
      "            2760           4\n",
      "            3382           4\n",
      "            3765           4\n",
      "            3956           4\n",
      "                          ..\n",
      "            4879           2\n",
      "            4933           2\n",
      "            4942           2\n",
      "            4943           2\n",
      "2014-01-12  3628           6\n",
      "Name: Customer_ID, Length: 122, dtype: int64\n"
     ]
    },
    {
     "data": {
      "text/plain": [
       "Date        Customer_ID\n",
       "2014-01-05  2480           5\n",
       "            2760           4\n",
       "            3382           4\n",
       "            3765           4\n",
       "            3956           4\n",
       "                          ..\n",
       "2014-01-12  4870           2\n",
       "            4900           2\n",
       "            4933           2\n",
       "            4938           2\n",
       "2014-01-19  1065           4\n",
       "Name: Customer_ID, Length: 254, dtype: int64"
      ]
     },
     "execution_count": 36,
     "metadata": {},
     "output_type": "execute_result"
    }
   ],
   "source": [
    "Unique_customer_weekly1 = df.resample('w', on='Date')['Customer_ID'].value_counts()\n",
    "print(Unique_customer_weekly1.head(122))\n",
    "\n",
    "# This code gives the weekly output where the Customer Id gives the unique Customers and number of times that customer visited\n",
    "\n",
    "# As we can see that this code and the above code works similar ----\n",
    "\n",
    "# Here if we fetch 122 records from top that is from 2014-01-05 to 2014-01-12 we see that there are 121 unique customer IDs\n",
    "# And 122nd unique record goes to the next week starting from 2014-01-12\n",
    "\n",
    "Unique_customer_weekly1.head(254) # So doing 254 we go into the 3rd week greater than 121+132"
   ]
  },
  {
   "cell_type": "code",
   "execution_count": 42,
   "id": "48f42724",
   "metadata": {},
   "outputs": [
    {
     "data": {
      "text/plain": [
       "<AxesSubplot:xlabel='Date'>"
      ]
     },
     "execution_count": 42,
     "metadata": {},
     "output_type": "execute_result"
    },
    {
     "data": {
      "image/png": "[encoded data removed]",
      "text/plain": [
       "<Figure size 1152x720 with 1 Axes>"
      ]
     },
     "metadata": {
      "needs_background": "light"
     },
     "output_type": "display_data"
    }
   ],
   "source": [
    "plt.figure(figsize=(16, 10))\n",
    "Unique_customer_weekly.plot()"
   ]
  },
  {
   "cell_type": "code",
   "execution_count": 38,
   "id": "d360261b",
   "metadata": {},
   "outputs": [
    {
     "data": {
      "text/plain": [
       "\"\\nExample -----\\n\\nimport pandas as pd\\nfrom datetime import timedelta\\n\\n# Sample data - Replace this with your actual dataframe\\ndata = pd.DataFrame({\\n    'Customer ID': [101, 102, 101, 103, 102, 104, 103, 101],\\n    'Item Name': ['Product A', 'Product B', 'Product A', 'Product C', 'Product B',\\n                  'Product A', 'Product D', 'Product B'],\\n    'Date': pd.to_datetime(['2023-07-01', '2023-07-03', '2023-07-05', '2023-07-06',\\n                           '2023-07-09', '2023-07-12', '2023-07-15', '2023-07-18']),\\n})\\n\\n# Assuming your 'Date' column is already in datetime format. If not, you can convert it like this:\\n# data['Date'] = pd.to_datetime(data['Date'])\\n\\n# Sort the data by 'Date'\\ndata = data.sort_values(by='Date')\\n\\n# Get the minimum date in the dataset to start the weekly periods\\nmin_date = data['Date'].min()\\n\\n# Create a new column to store the weekly periods\\ndata['Week'] = (data['Date'] - min_date) // timedelta(weeks=1)\\n\\n# Group the data by 'Week' and count the number of unique 'Customer ID's\\nnew_customers_per_week = data.groupby('Week')['Customer ID'].nunique()\\n\\n# Print the result\\nprint(new_customers_per_week)\\n\\n\""
      ]
     },
     "execution_count": 38,
     "metadata": {},
     "output_type": "execute_result"
    }
   ],
   "source": [
    "### Method 2 - using groupby\n",
    "\n",
    "'''\n",
    "Example -----\n",
    "\n",
    "import pandas as pd\n",
    "from datetime import timedelta\n",
    "\n",
    "# Sample data - Replace this with your actual dataframe\n",
    "data = pd.DataFrame({\n",
    "    'Customer ID': [101, 102, 101, 103, 102, 104, 103, 101],\n",
    "    'Item Name': ['Product A', 'Product B', 'Product A', 'Product C', 'Product B',\n",
    "                  'Product A', 'Product D', 'Product B'],\n",
    "    'Date': pd.to_datetime(['2023-07-01', '2023-07-03', '2023-07-05', '2023-07-06',\n",
    "                           '2023-07-09', '2023-07-12', '2023-07-15', '2023-07-18']),\n",
    "})\n",
    "\n",
    "# Assuming your 'Date' column is already in datetime format. If not, you can convert it like this:\n",
    "# data['Date'] = pd.to_datetime(data['Date'])\n",
    "\n",
    "# Sort the data by 'Date'\n",
    "data = data.sort_values(by='Date')\n",
    "\n",
    "# Get the minimum date in the dataset to start the weekly periods\n",
    "min_date = data['Date'].min()\n",
    "\n",
    "# Create a new column to store the weekly periods\n",
    "data['Week'] = (data['Date'] - min_date) // timedelta(weeks=1)\n",
    "\n",
    "# Group the data by 'Week' and count the number of unique 'Customer ID's\n",
    "new_customers_per_week = data.groupby('Week')['Customer ID'].nunique()\n",
    "\n",
    "# Print the result\n",
    "print(new_customers_per_week)\n",
    "\n",
    "'''"
   ]
  },
  {
   "cell_type": "markdown",
   "id": "50da94a2",
   "metadata": {},
   "source": [
    "## Weekly sales and Weekly new customers graph looks kinda identical"
   ]
  },
  {
   "cell_type": "code",
   "execution_count": 44,
   "id": "c55c4661",
   "metadata": {},
   "outputs": [
    {
     "data": {
      "image/png": "[encoded data removed]",
      "text/plain": [
       "<Figure size 432x288 with 1 Axes>"
      ]
     },
     "metadata": {
      "needs_background": "light"
     },
     "output_type": "display_data"
    }
   ],
   "source": [
    "plt.plot(Sales_weekly)\n",
    "Unique_customer_weekly.plot()\n",
    "  \n",
    "# Adding legend, which helps us recognize the curve according to it's color\n",
    "plt.legend()\n",
    "  \n",
    "# To load the display window\n",
    "plt.show()"
   ]
  },
  {
   "cell_type": "code",
   "execution_count": 45,
   "id": "7cc4e258",
   "metadata": {},
   "outputs": [
    {
     "data": {
      "text/plain": [
       "<matplotlib.legend.Legend at 0x26a32653e50>"
      ]
     },
     "execution_count": 45,
     "metadata": {},
     "output_type": "execute_result"
    },
    {
     "data": {
      "image/png": "[encoded data removed]",
      "text/plain": [
       "<Figure size 432x288 with 1 Axes>"
      ]
     },
     "metadata": {
      "needs_background": "light"
     },
     "output_type": "display_data"
    }
   ],
   "source": [
    "Unique_customer_weekly.plot()\n",
    "Sales_weekly.plot()\n",
    "plt.xlabel(\"Unique\")\n",
    "plt.ylabel(\"Count\")\n",
    "plt.legend()"
   ]
  },
  {
   "cell_type": "code",
   "execution_count": 47,
   "id": "fa639227",
   "metadata": {},
   "outputs": [
    {
     "data": {
      "image/png": "[encoded data removed]",
      "text/plain": [
       "<Figure size 432x288 with 1 Axes>"
      ]
     },
     "metadata": {
      "needs_background": "light"
     },
     "output_type": "display_data"
    }
   ],
   "source": [
    "plt.scatter(Sales_weekly, Unique_customer_weekly)\n",
    "plt.rcParams.update({'figure.figsize':(10,8), 'figure.dpi':100})\n",
    "plt.title('Simple Scatter plot')\n",
    "plt.xlabel('Sales_weekly')\n",
    "plt.ylabel('Unique_customer_weekly')\n",
    "plt.show()"
   ]
  },
  {
   "cell_type": "code",
   "execution_count": 48,
   "id": "daf62478",
   "metadata": {},
   "outputs": [
    {
     "name": "stdout",
     "output_type": "stream",
     "text": [
      "[[1.         0.49931982]\n",
      " [0.49931982 1.        ]]\n"
     ]
    }
   ],
   "source": [
    "print(np.corrcoef(Sales_weekly, Unique_customer_weekly))"
   ]
  },
  {
   "cell_type": "markdown",
   "id": "afb3dfd0",
   "metadata": {},
   "source": [
    "## Frequency of each Item Sold"
   ]
  },
  {
   "cell_type": "code",
   "execution_count": 49,
   "id": "1ac92ffb",
   "metadata": {},
   "outputs": [],
   "source": [
    "frequency_of_items = df.groupby(pd.Grouper(key='Item Name')).size().reset_index(name='count')"
   ]
  },
  {
   "cell_type": "code",
   "execution_count": 50,
   "id": "da6b4bf4",
   "metadata": {},
   "outputs": [
    {
     "data": {
      "text/html": [
       "<div>\n",
       "<style scoped>\n",
       "    .dataframe tbody tr th:only-of-type {\n",
       "        vertical-align: middle;\n",
       "    }\n",
       "\n",
       "    .dataframe tbody tr th {\n",
       "        vertical-align: top;\n",
       "    }\n",
       "\n",
       "    .dataframe thead th {\n",
       "        text-align: right;\n",
       "    }\n",
       "</style>\n",
       "<table border=\"1\" class=\"dataframe\">\n",
       "  <thead>\n",
       "    <tr style=\"text-align: right;\">\n",
       "      <th></th>\n",
       "      <th>Item Name</th>\n",
       "      <th>count</th>\n",
       "    </tr>\n",
       "  </thead>\n",
       "  <tbody>\n",
       "    <tr>\n",
       "      <th>0</th>\n",
       "      <td>tropical fruit</td>\n",
       "      <td>1032</td>\n",
       "    </tr>\n",
       "    <tr>\n",
       "      <th>1</th>\n",
       "      <td>whole milk</td>\n",
       "      <td>2502</td>\n",
       "    </tr>\n",
       "    <tr>\n",
       "      <th>2</th>\n",
       "      <td>pip fruit</td>\n",
       "      <td>744</td>\n",
       "    </tr>\n",
       "    <tr>\n",
       "      <th>3</th>\n",
       "      <td>other vegetables</td>\n",
       "      <td>1898</td>\n",
       "    </tr>\n",
       "    <tr>\n",
       "      <th>4</th>\n",
       "      <td>rolls/buns</td>\n",
       "      <td>1716</td>\n",
       "    </tr>\n",
       "    <tr>\n",
       "      <th>...</th>\n",
       "      <td>...</td>\n",
       "      <td>...</td>\n",
       "    </tr>\n",
       "    <tr>\n",
       "      <th>162</th>\n",
       "      <td>pudding powder</td>\n",
       "      <td>17</td>\n",
       "    </tr>\n",
       "    <tr>\n",
       "      <th>163</th>\n",
       "      <td>ready soups</td>\n",
       "      <td>15</td>\n",
       "    </tr>\n",
       "    <tr>\n",
       "      <th>164</th>\n",
       "      <td>make up remover</td>\n",
       "      <td>5</td>\n",
       "    </tr>\n",
       "    <tr>\n",
       "      <th>165</th>\n",
       "      <td>toilet cleaner</td>\n",
       "      <td>5</td>\n",
       "    </tr>\n",
       "    <tr>\n",
       "      <th>166</th>\n",
       "      <td>preservation products</td>\n",
       "      <td>1</td>\n",
       "    </tr>\n",
       "  </tbody>\n",
       "</table>\n",
       "<p>167 rows × 2 columns</p>\n",
       "</div>"
      ],
      "text/plain": [
       "                 Item Name  count\n",
       "0           tropical fruit   1032\n",
       "1               whole milk   2502\n",
       "2                pip fruit    744\n",
       "3         other vegetables   1898\n",
       "4               rolls/buns   1716\n",
       "..                     ...    ...\n",
       "162         pudding powder     17\n",
       "163            ready soups     15\n",
       "164        make up remover      5\n",
       "165         toilet cleaner      5\n",
       "166  preservation products      1\n",
       "\n",
       "[167 rows x 2 columns]"
      ]
     },
     "execution_count": 50,
     "metadata": {},
     "output_type": "execute_result"
    }
   ],
   "source": [
    "frequency_of_items"
   ]
  },
  {
   "cell_type": "markdown",
   "id": "03c18acc",
   "metadata": {},
   "source": [
    "## Top 10 items by frequency"
   ]
  },
  {
   "cell_type": "code",
   "execution_count": 52,
   "id": "97e5bccc",
   "metadata": {},
   "outputs": [],
   "source": [
    "frequency = df.groupby('Item Name')['Item Name'].count().sort_values(ascending=False)[:10]"
   ]
  },
  {
   "cell_type": "code",
   "execution_count": 53,
   "id": "92d6d369",
   "metadata": {},
   "outputs": [
    {
     "data": {
      "text/plain": [
       "<AxesSubplot:xlabel='Item Name'>"
      ]
     },
     "execution_count": 53,
     "metadata": {},
     "output_type": "execute_result"
    },
    {
     "data": {
      "image/png": "[encoded data removed]",
      "text/plain": [
       "<Figure size 1900x1200 with 1 Axes>"
      ]
     },
     "metadata": {
      "needs_background": "light"
     },
     "output_type": "display_data"
    }
   ],
   "source": [
    "plt.figure(figsize=(19, 12))\n",
    "frequency.plot(kind='bar')"
   ]
  },
  {
   "cell_type": "markdown",
   "id": "2953ff2f",
   "metadata": {},
   "source": [
    "## Number of Sales per disrete week days"
   ]
  },
  {
   "cell_type": "code",
   "execution_count": 54,
   "id": "613cdf9b",
   "metadata": {},
   "outputs": [
    {
     "data": {
      "text/plain": [
       "<Figure size 900x400 with 0 Axes>"
      ]
     },
     "execution_count": 54,
     "metadata": {},
     "output_type": "execute_result"
    },
    {
     "data": {
      "image/png": "[encoded data removed]",
      "text/plain": [
       "<Figure size 1000x800 with 1 Axes>"
      ]
     },
     "metadata": {
      "needs_background": "light"
     },
     "output_type": "display_data"
    },
    {
     "data": {
      "text/plain": [
       "<Figure size 900x400 with 0 Axes>"
      ]
     },
     "metadata": {},
     "output_type": "display_data"
    }
   ],
   "source": [
    "\n",
    "\n",
    "\"\"\"\n",
    "1. data['Date'].dt.strftime('%A'): This part of the code extracts the day of the week from the 'Date' column in the DataFrame \n",
    "data. The data['Date'].dt accessor allows you to access the datetime properties of the 'Date' column. strftime('%A') is a\n",
    "datetime method used to format the date as the full weekday name (e.g., Monday, Tuesday, etc.).\n",
    "\n",
    "2. data.groupby(...): The groupby() method is used to group the DataFrame data based on the day of the week (result from step 1)\n",
    "It will create separate groups for each unique weekday.\n",
    "\n",
    "3. ['itemName'].count(): After grouping, the code accesses the 'itemName' column within each group and then applies the count() \n",
    "method to calculate the number of occurrences (counts) of each 'itemName' within each weekday group.\n",
    "\n",
    "As a result, day will be a pandas Series where the index represents the weekdays (e.g., 'Monday', 'Tuesday', etc.), and the \n",
    "values indicate the count of occurrences of each 'itemName' for each respective weekday in the original data DataFrame. This \n",
    "allows you to analyze and understand the distribution of items sold on different days of the week.\"\"\"\n",
    "\n",
    "\n",
    "day = df.groupby(df['Date'].dt.strftime('%A'))['Item Name'].count()\n",
    "\n",
    "day.plot(kind = 'bar')\n",
    "\n",
    "plt.figure(figsize=(9, 4))"
   ]
  },
  {
   "cell_type": "markdown",
   "id": "9836e1a7",
   "metadata": {},
   "source": [
    "## Conclusion -  Tried to identify customer buying patters based on different days of the week but no concrete conclusions can be made based on the observations\n",
    "### Monday -  Starting of the week has the lowest sales"
   ]
  },
  {
   "cell_type": "markdown",
   "id": "b66c874c",
   "metadata": {},
   "source": [
    "## Number of sales per discrete month"
   ]
  },
  {
   "cell_type": "code",
   "execution_count": 58,
   "id": "b80db946",
   "metadata": {},
   "outputs": [
    {
     "data": {
      "text/plain": [
       "<AxesSubplot:xlabel='Date'>"
      ]
     },
     "execution_count": 58,
     "metadata": {},
     "output_type": "execute_result"
    },
    {
     "data": {
      "image/png": "[encoded data removed]",
      "text/plain": [
       "<Figure size 1000x800 with 1 Axes>"
      ]
     },
     "metadata": {
      "needs_background": "light"
     },
     "output_type": "display_data"
    }
   ],
   "source": [
    "month = df.groupby(df['Date'].dt.strftime('%m'))['Item Name'].count()\n",
    "month.plot(kind='bar')"
   ]
  },
  {
   "cell_type": "markdown",
   "id": "10d9dbf1",
   "metadata": {},
   "source": [
    "## Lowest Sales is at the month of 'October' followed by 'February' --- 'February is here because it might has lower number of days than other months"
   ]
  },
  {
   "cell_type": "code",
   "execution_count": 61,
   "id": "97a8dc6d",
   "metadata": {},
   "outputs": [
    {
     "data": {
      "text/plain": [
       "<AxesSubplot:xlabel='Date'>"
      ]
     },
     "execution_count": 61,
     "metadata": {},
     "output_type": "execute_result"
    },
    {
     "data": {
      "image/png": "[encoded data removed]",
      "text/plain": [
       "<Figure size 1000x800 with 1 Axes>"
      ]
     },
     "metadata": {
      "needs_background": "light"
     },
     "output_type": "display_data"
    }
   ],
   "source": [
    "month_day = df.groupby(df['Date'].dt.strftime('%d'))['Item Name'].count()\n",
    "month_day.plot(kind='bar')"
   ]
  },
  {
   "cell_type": "markdown",
   "id": "4c2b69b1",
   "metadata": {},
   "source": [
    "## Creating Baskets"
   ]
  },
  {
   "cell_type": "code",
   "execution_count": 64,
   "id": "dd75701c",
   "metadata": {},
   "outputs": [
    {
     "data": {
      "text/html": [
       "<div>\n",
       "<style scoped>\n",
       "    .dataframe tbody tr th:only-of-type {\n",
       "        vertical-align: middle;\n",
       "    }\n",
       "\n",
       "    .dataframe tbody tr th {\n",
       "        vertical-align: top;\n",
       "    }\n",
       "\n",
       "    .dataframe thead th {\n",
       "        text-align: right;\n",
       "    }\n",
       "</style>\n",
       "<table border=\"1\" class=\"dataframe\">\n",
       "  <thead>\n",
       "    <tr style=\"text-align: right;\">\n",
       "      <th>Item Name</th>\n",
       "      <th>Customer_ID</th>\n",
       "      <th>Instant food products</th>\n",
       "      <th>UHT-milk</th>\n",
       "      <th>abrasive cleaner</th>\n",
       "      <th>artif. sweetener</th>\n",
       "      <th>baby cosmetics</th>\n",
       "      <th>bags</th>\n",
       "      <th>baking powder</th>\n",
       "      <th>bathroom cleaner</th>\n",
       "      <th>beef</th>\n",
       "      <th>...</th>\n",
       "      <th>turkey</th>\n",
       "      <th>vinegar</th>\n",
       "      <th>waffles</th>\n",
       "      <th>whipped/sour cream</th>\n",
       "      <th>whisky</th>\n",
       "      <th>white bread</th>\n",
       "      <th>white wine</th>\n",
       "      <th>whole milk</th>\n",
       "      <th>yogurt</th>\n",
       "      <th>zwieback</th>\n",
       "    </tr>\n",
       "  </thead>\n",
       "  <tbody>\n",
       "    <tr>\n",
       "      <th>0</th>\n",
       "      <td>1000</td>\n",
       "      <td>0.0</td>\n",
       "      <td>0.0</td>\n",
       "      <td>0.0</td>\n",
       "      <td>0.0</td>\n",
       "      <td>0.0</td>\n",
       "      <td>0.0</td>\n",
       "      <td>0.0</td>\n",
       "      <td>0.0</td>\n",
       "      <td>0.0</td>\n",
       "      <td>...</td>\n",
       "      <td>0.0</td>\n",
       "      <td>0.0</td>\n",
       "      <td>0.0</td>\n",
       "      <td>0.0</td>\n",
       "      <td>0.0</td>\n",
       "      <td>0.0</td>\n",
       "      <td>0.0</td>\n",
       "      <td>2.0</td>\n",
       "      <td>1.0</td>\n",
       "      <td>0.0</td>\n",
       "    </tr>\n",
       "    <tr>\n",
       "      <th>1</th>\n",
       "      <td>1001</td>\n",
       "      <td>0.0</td>\n",
       "      <td>0.0</td>\n",
       "      <td>0.0</td>\n",
       "      <td>0.0</td>\n",
       "      <td>0.0</td>\n",
       "      <td>0.0</td>\n",
       "      <td>0.0</td>\n",
       "      <td>0.0</td>\n",
       "      <td>1.0</td>\n",
       "      <td>...</td>\n",
       "      <td>0.0</td>\n",
       "      <td>0.0</td>\n",
       "      <td>0.0</td>\n",
       "      <td>1.0</td>\n",
       "      <td>0.0</td>\n",
       "      <td>1.0</td>\n",
       "      <td>0.0</td>\n",
       "      <td>2.0</td>\n",
       "      <td>0.0</td>\n",
       "      <td>0.0</td>\n",
       "    </tr>\n",
       "    <tr>\n",
       "      <th>2</th>\n",
       "      <td>1002</td>\n",
       "      <td>0.0</td>\n",
       "      <td>0.0</td>\n",
       "      <td>0.0</td>\n",
       "      <td>0.0</td>\n",
       "      <td>0.0</td>\n",
       "      <td>0.0</td>\n",
       "      <td>0.0</td>\n",
       "      <td>0.0</td>\n",
       "      <td>0.0</td>\n",
       "      <td>...</td>\n",
       "      <td>0.0</td>\n",
       "      <td>0.0</td>\n",
       "      <td>0.0</td>\n",
       "      <td>0.0</td>\n",
       "      <td>0.0</td>\n",
       "      <td>0.0</td>\n",
       "      <td>0.0</td>\n",
       "      <td>1.0</td>\n",
       "      <td>0.0</td>\n",
       "      <td>0.0</td>\n",
       "    </tr>\n",
       "    <tr>\n",
       "      <th>3</th>\n",
       "      <td>1003</td>\n",
       "      <td>0.0</td>\n",
       "      <td>0.0</td>\n",
       "      <td>0.0</td>\n",
       "      <td>0.0</td>\n",
       "      <td>0.0</td>\n",
       "      <td>0.0</td>\n",
       "      <td>0.0</td>\n",
       "      <td>0.0</td>\n",
       "      <td>0.0</td>\n",
       "      <td>...</td>\n",
       "      <td>0.0</td>\n",
       "      <td>0.0</td>\n",
       "      <td>0.0</td>\n",
       "      <td>0.0</td>\n",
       "      <td>0.0</td>\n",
       "      <td>0.0</td>\n",
       "      <td>0.0</td>\n",
       "      <td>0.0</td>\n",
       "      <td>0.0</td>\n",
       "      <td>0.0</td>\n",
       "    </tr>\n",
       "    <tr>\n",
       "      <th>4</th>\n",
       "      <td>1004</td>\n",
       "      <td>0.0</td>\n",
       "      <td>0.0</td>\n",
       "      <td>0.0</td>\n",
       "      <td>0.0</td>\n",
       "      <td>0.0</td>\n",
       "      <td>0.0</td>\n",
       "      <td>0.0</td>\n",
       "      <td>0.0</td>\n",
       "      <td>0.0</td>\n",
       "      <td>...</td>\n",
       "      <td>0.0</td>\n",
       "      <td>0.0</td>\n",
       "      <td>0.0</td>\n",
       "      <td>0.0</td>\n",
       "      <td>0.0</td>\n",
       "      <td>0.0</td>\n",
       "      <td>0.0</td>\n",
       "      <td>3.0</td>\n",
       "      <td>0.0</td>\n",
       "      <td>0.0</td>\n",
       "    </tr>\n",
       "    <tr>\n",
       "      <th>...</th>\n",
       "      <td>...</td>\n",
       "      <td>...</td>\n",
       "      <td>...</td>\n",
       "      <td>...</td>\n",
       "      <td>...</td>\n",
       "      <td>...</td>\n",
       "      <td>...</td>\n",
       "      <td>...</td>\n",
       "      <td>...</td>\n",
       "      <td>...</td>\n",
       "      <td>...</td>\n",
       "      <td>...</td>\n",
       "      <td>...</td>\n",
       "      <td>...</td>\n",
       "      <td>...</td>\n",
       "      <td>...</td>\n",
       "      <td>...</td>\n",
       "      <td>...</td>\n",
       "      <td>...</td>\n",
       "      <td>...</td>\n",
       "      <td>...</td>\n",
       "    </tr>\n",
       "    <tr>\n",
       "      <th>3893</th>\n",
       "      <td>4996</td>\n",
       "      <td>0.0</td>\n",
       "      <td>0.0</td>\n",
       "      <td>0.0</td>\n",
       "      <td>0.0</td>\n",
       "      <td>0.0</td>\n",
       "      <td>0.0</td>\n",
       "      <td>0.0</td>\n",
       "      <td>0.0</td>\n",
       "      <td>0.0</td>\n",
       "      <td>...</td>\n",
       "      <td>0.0</td>\n",
       "      <td>0.0</td>\n",
       "      <td>0.0</td>\n",
       "      <td>0.0</td>\n",
       "      <td>0.0</td>\n",
       "      <td>0.0</td>\n",
       "      <td>0.0</td>\n",
       "      <td>0.0</td>\n",
       "      <td>0.0</td>\n",
       "      <td>0.0</td>\n",
       "    </tr>\n",
       "    <tr>\n",
       "      <th>3894</th>\n",
       "      <td>4997</td>\n",
       "      <td>0.0</td>\n",
       "      <td>0.0</td>\n",
       "      <td>0.0</td>\n",
       "      <td>0.0</td>\n",
       "      <td>0.0</td>\n",
       "      <td>0.0</td>\n",
       "      <td>0.0</td>\n",
       "      <td>0.0</td>\n",
       "      <td>0.0</td>\n",
       "      <td>...</td>\n",
       "      <td>0.0</td>\n",
       "      <td>0.0</td>\n",
       "      <td>0.0</td>\n",
       "      <td>0.0</td>\n",
       "      <td>0.0</td>\n",
       "      <td>0.0</td>\n",
       "      <td>1.0</td>\n",
       "      <td>1.0</td>\n",
       "      <td>0.0</td>\n",
       "      <td>0.0</td>\n",
       "    </tr>\n",
       "    <tr>\n",
       "      <th>3895</th>\n",
       "      <td>4998</td>\n",
       "      <td>0.0</td>\n",
       "      <td>0.0</td>\n",
       "      <td>0.0</td>\n",
       "      <td>0.0</td>\n",
       "      <td>0.0</td>\n",
       "      <td>0.0</td>\n",
       "      <td>0.0</td>\n",
       "      <td>0.0</td>\n",
       "      <td>0.0</td>\n",
       "      <td>...</td>\n",
       "      <td>0.0</td>\n",
       "      <td>0.0</td>\n",
       "      <td>0.0</td>\n",
       "      <td>0.0</td>\n",
       "      <td>0.0</td>\n",
       "      <td>0.0</td>\n",
       "      <td>0.0</td>\n",
       "      <td>0.0</td>\n",
       "      <td>0.0</td>\n",
       "      <td>0.0</td>\n",
       "    </tr>\n",
       "    <tr>\n",
       "      <th>3896</th>\n",
       "      <td>4999</td>\n",
       "      <td>0.0</td>\n",
       "      <td>0.0</td>\n",
       "      <td>0.0</td>\n",
       "      <td>0.0</td>\n",
       "      <td>0.0</td>\n",
       "      <td>0.0</td>\n",
       "      <td>0.0</td>\n",
       "      <td>0.0</td>\n",
       "      <td>0.0</td>\n",
       "      <td>...</td>\n",
       "      <td>0.0</td>\n",
       "      <td>0.0</td>\n",
       "      <td>0.0</td>\n",
       "      <td>1.0</td>\n",
       "      <td>0.0</td>\n",
       "      <td>0.0</td>\n",
       "      <td>0.0</td>\n",
       "      <td>0.0</td>\n",
       "      <td>1.0</td>\n",
       "      <td>0.0</td>\n",
       "    </tr>\n",
       "    <tr>\n",
       "      <th>3897</th>\n",
       "      <td>5000</td>\n",
       "      <td>0.0</td>\n",
       "      <td>0.0</td>\n",
       "      <td>0.0</td>\n",
       "      <td>0.0</td>\n",
       "      <td>0.0</td>\n",
       "      <td>0.0</td>\n",
       "      <td>0.0</td>\n",
       "      <td>0.0</td>\n",
       "      <td>0.0</td>\n",
       "      <td>...</td>\n",
       "      <td>0.0</td>\n",
       "      <td>0.0</td>\n",
       "      <td>0.0</td>\n",
       "      <td>0.0</td>\n",
       "      <td>0.0</td>\n",
       "      <td>0.0</td>\n",
       "      <td>0.0</td>\n",
       "      <td>0.0</td>\n",
       "      <td>0.0</td>\n",
       "      <td>0.0</td>\n",
       "    </tr>\n",
       "  </tbody>\n",
       "</table>\n",
       "<p>3898 rows × 168 columns</p>\n",
       "</div>"
      ],
      "text/plain": [
       "Item Name  Customer_ID  Instant food products  UHT-milk  abrasive cleaner  \\\n",
       "0                 1000                    0.0       0.0               0.0   \n",
       "1                 1001                    0.0       0.0               0.0   \n",
       "2                 1002                    0.0       0.0               0.0   \n",
       "3                 1003                    0.0       0.0               0.0   \n",
       "4                 1004                    0.0       0.0               0.0   \n",
       "...                ...                    ...       ...               ...   \n",
       "3893              4996                    0.0       0.0               0.0   \n",
       "3894              4997                    0.0       0.0               0.0   \n",
       "3895              4998                    0.0       0.0               0.0   \n",
       "3896              4999                    0.0       0.0               0.0   \n",
       "3897              5000                    0.0       0.0               0.0   \n",
       "\n",
       "Item Name  artif. sweetener  baby cosmetics  bags  baking powder  \\\n",
       "0                       0.0             0.0   0.0            0.0   \n",
       "1                       0.0             0.0   0.0            0.0   \n",
       "2                       0.0             0.0   0.0            0.0   \n",
       "3                       0.0             0.0   0.0            0.0   \n",
       "4                       0.0             0.0   0.0            0.0   \n",
       "...                     ...             ...   ...            ...   \n",
       "3893                    0.0             0.0   0.0            0.0   \n",
       "3894                    0.0             0.0   0.0            0.0   \n",
       "3895                    0.0             0.0   0.0            0.0   \n",
       "3896                    0.0             0.0   0.0            0.0   \n",
       "3897                    0.0             0.0   0.0            0.0   \n",
       "\n",
       "Item Name  bathroom cleaner  beef  ...  turkey  vinegar  waffles  \\\n",
       "0                       0.0   0.0  ...     0.0      0.0      0.0   \n",
       "1                       0.0   1.0  ...     0.0      0.0      0.0   \n",
       "2                       0.0   0.0  ...     0.0      0.0      0.0   \n",
       "3                       0.0   0.0  ...     0.0      0.0      0.0   \n",
       "4                       0.0   0.0  ...     0.0      0.0      0.0   \n",
       "...                     ...   ...  ...     ...      ...      ...   \n",
       "3893                    0.0   0.0  ...     0.0      0.0      0.0   \n",
       "3894                    0.0   0.0  ...     0.0      0.0      0.0   \n",
       "3895                    0.0   0.0  ...     0.0      0.0      0.0   \n",
       "3896                    0.0   0.0  ...     0.0      0.0      0.0   \n",
       "3897                    0.0   0.0  ...     0.0      0.0      0.0   \n",
       "\n",
       "Item Name  whipped/sour cream  whisky  white bread  white wine  whole milk  \\\n",
       "0                         0.0     0.0          0.0         0.0         2.0   \n",
       "1                         1.0     0.0          1.0         0.0         2.0   \n",
       "2                         0.0     0.0          0.0         0.0         1.0   \n",
       "3                         0.0     0.0          0.0         0.0         0.0   \n",
       "4                         0.0     0.0          0.0         0.0         3.0   \n",
       "...                       ...     ...          ...         ...         ...   \n",
       "3893                      0.0     0.0          0.0         0.0         0.0   \n",
       "3894                      0.0     0.0          0.0         1.0         1.0   \n",
       "3895                      0.0     0.0          0.0         0.0         0.0   \n",
       "3896                      1.0     0.0          0.0         0.0         0.0   \n",
       "3897                      0.0     0.0          0.0         0.0         0.0   \n",
       "\n",
       "Item Name  yogurt  zwieback  \n",
       "0             1.0       0.0  \n",
       "1             0.0       0.0  \n",
       "2             0.0       0.0  \n",
       "3             0.0       0.0  \n",
       "4             0.0       0.0  \n",
       "...           ...       ...  \n",
       "3893          0.0       0.0  \n",
       "3894          0.0       0.0  \n",
       "3895          0.0       0.0  \n",
       "3896          1.0       0.0  \n",
       "3897          0.0       0.0  \n",
       "\n",
       "[3898 rows x 168 columns]"
      ]
     },
     "execution_count": 64,
     "metadata": {},
     "output_type": "execute_result"
    }
   ],
   "source": [
    "baskets = df.groupby(['Customer_ID', 'Item Name'])['Item Name'].count().unstack().fillna(0).reset_index()\n",
    "baskets\n",
    "\n",
    "# We are grouping all items bught by each customers like in the form of OHE - One Hot Encoding"
   ]
  },
  {
   "cell_type": "markdown",
   "id": "d9f3c56c",
   "metadata": {},
   "source": [
    "#### The above dataframe represents the customers-items matrix. Each row represents the transactions of each customer, and each column represents the items bought. The numbers corresponding to the matrix represent the number of times that item is bought by the individual user."
   ]
  },
  {
   "cell_type": "code",
   "execution_count": 65,
   "id": "c579bac6",
   "metadata": {},
   "outputs": [
    {
     "data": {
      "text/plain": [
       "2502.0"
      ]
     },
     "execution_count": 65,
     "metadata": {},
     "output_type": "execute_result"
    }
   ],
   "source": [
    "# Checking if the most sold -item which is whole milk- has the same number of sales as we discussed above.\n",
    "\n",
    "baskets['whole milk'].sum()\n",
    "\n",
    "# this gives the same result as we got above"
   ]
  },
  {
   "cell_type": "code",
   "execution_count": 67,
   "id": "e21fee94",
   "metadata": {},
   "outputs": [],
   "source": [
    "# Encoding the items that sold more than 1\n",
    "def one_hot_encoder(k):\n",
    "    if k <= 0:\n",
    "        return 0\n",
    "    if k >= 1:\n",
    "        return 1"
   ]
  },
  {
   "cell_type": "code",
   "execution_count": 68,
   "id": "9b8f9c9e",
   "metadata": {},
   "outputs": [
    {
     "data": {
      "text/html": [
       "<div>\n",
       "<style scoped>\n",
       "    .dataframe tbody tr th:only-of-type {\n",
       "        vertical-align: middle;\n",
       "    }\n",
       "\n",
       "    .dataframe tbody tr th {\n",
       "        vertical-align: top;\n",
       "    }\n",
       "\n",
       "    .dataframe thead th {\n",
       "        text-align: right;\n",
       "    }\n",
       "</style>\n",
       "<table border=\"1\" class=\"dataframe\">\n",
       "  <thead>\n",
       "    <tr style=\"text-align: right;\">\n",
       "      <th>Item Name</th>\n",
       "      <th>Instant food products</th>\n",
       "      <th>UHT-milk</th>\n",
       "      <th>abrasive cleaner</th>\n",
       "      <th>artif. sweetener</th>\n",
       "      <th>baby cosmetics</th>\n",
       "      <th>bags</th>\n",
       "      <th>baking powder</th>\n",
       "      <th>bathroom cleaner</th>\n",
       "      <th>beef</th>\n",
       "      <th>berries</th>\n",
       "      <th>...</th>\n",
       "      <th>turkey</th>\n",
       "      <th>vinegar</th>\n",
       "      <th>waffles</th>\n",
       "      <th>whipped/sour cream</th>\n",
       "      <th>whisky</th>\n",
       "      <th>white bread</th>\n",
       "      <th>white wine</th>\n",
       "      <th>whole milk</th>\n",
       "      <th>yogurt</th>\n",
       "      <th>zwieback</th>\n",
       "    </tr>\n",
       "  </thead>\n",
       "  <tbody>\n",
       "    <tr>\n",
       "      <th>0</th>\n",
       "      <td>0</td>\n",
       "      <td>0</td>\n",
       "      <td>0</td>\n",
       "      <td>0</td>\n",
       "      <td>0</td>\n",
       "      <td>0</td>\n",
       "      <td>0</td>\n",
       "      <td>0</td>\n",
       "      <td>0</td>\n",
       "      <td>0</td>\n",
       "      <td>...</td>\n",
       "      <td>0</td>\n",
       "      <td>0</td>\n",
       "      <td>0</td>\n",
       "      <td>0</td>\n",
       "      <td>0</td>\n",
       "      <td>0</td>\n",
       "      <td>0</td>\n",
       "      <td>1</td>\n",
       "      <td>1</td>\n",
       "      <td>0</td>\n",
       "    </tr>\n",
       "    <tr>\n",
       "      <th>1</th>\n",
       "      <td>0</td>\n",
       "      <td>0</td>\n",
       "      <td>0</td>\n",
       "      <td>0</td>\n",
       "      <td>0</td>\n",
       "      <td>0</td>\n",
       "      <td>0</td>\n",
       "      <td>0</td>\n",
       "      <td>1</td>\n",
       "      <td>0</td>\n",
       "      <td>...</td>\n",
       "      <td>0</td>\n",
       "      <td>0</td>\n",
       "      <td>0</td>\n",
       "      <td>1</td>\n",
       "      <td>0</td>\n",
       "      <td>1</td>\n",
       "      <td>0</td>\n",
       "      <td>1</td>\n",
       "      <td>0</td>\n",
       "      <td>0</td>\n",
       "    </tr>\n",
       "    <tr>\n",
       "      <th>2</th>\n",
       "      <td>0</td>\n",
       "      <td>0</td>\n",
       "      <td>0</td>\n",
       "      <td>0</td>\n",
       "      <td>0</td>\n",
       "      <td>0</td>\n",
       "      <td>0</td>\n",
       "      <td>0</td>\n",
       "      <td>0</td>\n",
       "      <td>0</td>\n",
       "      <td>...</td>\n",
       "      <td>0</td>\n",
       "      <td>0</td>\n",
       "      <td>0</td>\n",
       "      <td>0</td>\n",
       "      <td>0</td>\n",
       "      <td>0</td>\n",
       "      <td>0</td>\n",
       "      <td>1</td>\n",
       "      <td>0</td>\n",
       "      <td>0</td>\n",
       "    </tr>\n",
       "    <tr>\n",
       "      <th>3</th>\n",
       "      <td>0</td>\n",
       "      <td>0</td>\n",
       "      <td>0</td>\n",
       "      <td>0</td>\n",
       "      <td>0</td>\n",
       "      <td>0</td>\n",
       "      <td>0</td>\n",
       "      <td>0</td>\n",
       "      <td>0</td>\n",
       "      <td>0</td>\n",
       "      <td>...</td>\n",
       "      <td>0</td>\n",
       "      <td>0</td>\n",
       "      <td>0</td>\n",
       "      <td>0</td>\n",
       "      <td>0</td>\n",
       "      <td>0</td>\n",
       "      <td>0</td>\n",
       "      <td>0</td>\n",
       "      <td>0</td>\n",
       "      <td>0</td>\n",
       "    </tr>\n",
       "    <tr>\n",
       "      <th>4</th>\n",
       "      <td>0</td>\n",
       "      <td>0</td>\n",
       "      <td>0</td>\n",
       "      <td>0</td>\n",
       "      <td>0</td>\n",
       "      <td>0</td>\n",
       "      <td>0</td>\n",
       "      <td>0</td>\n",
       "      <td>0</td>\n",
       "      <td>0</td>\n",
       "      <td>...</td>\n",
       "      <td>0</td>\n",
       "      <td>0</td>\n",
       "      <td>0</td>\n",
       "      <td>0</td>\n",
       "      <td>0</td>\n",
       "      <td>0</td>\n",
       "      <td>0</td>\n",
       "      <td>1</td>\n",
       "      <td>0</td>\n",
       "      <td>0</td>\n",
       "    </tr>\n",
       "  </tbody>\n",
       "</table>\n",
       "<p>5 rows × 167 columns</p>\n",
       "</div>"
      ],
      "text/plain": [
       "Item Name  Instant food products  UHT-milk  abrasive cleaner  \\\n",
       "0                              0         0                 0   \n",
       "1                              0         0                 0   \n",
       "2                              0         0                 0   \n",
       "3                              0         0                 0   \n",
       "4                              0         0                 0   \n",
       "\n",
       "Item Name  artif. sweetener  baby cosmetics  bags  baking powder  \\\n",
       "0                         0               0     0              0   \n",
       "1                         0               0     0              0   \n",
       "2                         0               0     0              0   \n",
       "3                         0               0     0              0   \n",
       "4                         0               0     0              0   \n",
       "\n",
       "Item Name  bathroom cleaner  beef  berries  ...  turkey  vinegar  waffles  \\\n",
       "0                         0     0        0  ...       0        0        0   \n",
       "1                         0     1        0  ...       0        0        0   \n",
       "2                         0     0        0  ...       0        0        0   \n",
       "3                         0     0        0  ...       0        0        0   \n",
       "4                         0     0        0  ...       0        0        0   \n",
       "\n",
       "Item Name  whipped/sour cream  whisky  white bread  white wine  whole milk  \\\n",
       "0                           0       0            0           0           1   \n",
       "1                           1       0            1           0           1   \n",
       "2                           0       0            0           0           1   \n",
       "3                           0       0            0           0           0   \n",
       "4                           0       0            0           0           1   \n",
       "\n",
       "Item Name  yogurt  zwieback  \n",
       "0               1         0  \n",
       "1               0         0  \n",
       "2               0         0  \n",
       "3               0         0  \n",
       "4               0         0  \n",
       "\n",
       "[5 rows x 167 columns]"
      ]
     },
     "execution_count": 68,
     "metadata": {},
     "output_type": "execute_result"
    }
   ],
   "source": [
    "baskets_final = baskets.iloc[:, 1:baskets.shape[1]].applymap(one_hot_encoder)\n",
    "baskets_final.head()\n",
    "\n",
    "# Applying our One hot encoding function to our basket"
   ]
  },
  {
   "cell_type": "code",
   "execution_count": 71,
   "id": "19fd0b35",
   "metadata": {},
   "outputs": [],
   "source": [
    "from mlxtend.frequent_patterns import apriori, association_rules"
   ]
  },
  {
   "cell_type": "code",
   "execution_count": 72,
   "id": "2f6e07f6",
   "metadata": {},
   "outputs": [
    {
     "name": "stderr",
     "output_type": "stream",
     "text": [
      "C:\\Users\\acer\\anaconda3\\lib\\site-packages\\ipykernel\\ipkernel.py:287: DeprecationWarning: `should_run_async` will not call `transform_cell` automatically in the future. Please pass the result to `transformed_cell` argument and any exception that happen during thetransform in `preprocessing_exc_tuple` in IPython 7.17 and above.\n",
      "  and should_run_async(code)\n",
      "C:\\Users\\acer\\anaconda3\\lib\\site-packages\\mlxtend\\frequent_patterns\\fpcommon.py:110: DeprecationWarning: DataFrames with non-bool types result in worse computationalperformance and their support might be discontinued in the future.Please use a DataFrame with bool type\n",
      "  warnings.warn(\n"
     ]
    },
    {
     "data": {
      "text/html": [
       "<div>\n",
       "<style scoped>\n",
       "    .dataframe tbody tr th:only-of-type {\n",
       "        vertical-align: middle;\n",
       "    }\n",
       "\n",
       "    .dataframe tbody tr th {\n",
       "        vertical-align: top;\n",
       "    }\n",
       "\n",
       "    .dataframe thead th {\n",
       "        text-align: right;\n",
       "    }\n",
       "</style>\n",
       "<table border=\"1\" class=\"dataframe\">\n",
       "  <thead>\n",
       "    <tr style=\"text-align: right;\">\n",
       "      <th></th>\n",
       "      <th>support</th>\n",
       "      <th>itemsets</th>\n",
       "    </tr>\n",
       "  </thead>\n",
       "  <tbody>\n",
       "    <tr>\n",
       "      <th>161</th>\n",
       "      <td>0.025141</td>\n",
       "      <td>(shopping bags, butter)</td>\n",
       "    </tr>\n",
       "    <tr>\n",
       "      <th>69</th>\n",
       "      <td>0.025141</td>\n",
       "      <td>(spread cheese)</td>\n",
       "    </tr>\n",
       "    <tr>\n",
       "      <th>405</th>\n",
       "      <td>0.025141</td>\n",
       "      <td>(sliced cheese, whole milk)</td>\n",
       "    </tr>\n",
       "    <tr>\n",
       "      <th>412</th>\n",
       "      <td>0.025141</td>\n",
       "      <td>(specialty bar, whole milk)</td>\n",
       "    </tr>\n",
       "    <tr>\n",
       "      <th>85</th>\n",
       "      <td>0.025141</td>\n",
       "      <td>(beef, pip fruit)</td>\n",
       "    </tr>\n",
       "    <tr>\n",
       "      <th>248</th>\n",
       "      <td>0.025141</td>\n",
       "      <td>(shopping bags, domestic eggs)</td>\n",
       "    </tr>\n",
       "    <tr>\n",
       "      <th>467</th>\n",
       "      <td>0.025141</td>\n",
       "      <td>(citrus fruit, tropical fruit, whole milk)</td>\n",
       "    </tr>\n",
       "    <tr>\n",
       "      <th>480</th>\n",
       "      <td>0.025141</td>\n",
       "      <td>(frankfurter, yogurt, whole milk)</td>\n",
       "    </tr>\n",
       "    <tr>\n",
       "      <th>119</th>\n",
       "      <td>0.025141</td>\n",
       "      <td>(chocolate, bottled water)</td>\n",
       "    </tr>\n",
       "    <tr>\n",
       "      <th>239</th>\n",
       "      <td>0.025141</td>\n",
       "      <td>(dessert, root vegetables)</td>\n",
       "    </tr>\n",
       "    <tr>\n",
       "      <th>540</th>\n",
       "      <td>0.025141</td>\n",
       "      <td>(shopping bags, yogurt, rolls/buns)</td>\n",
       "    </tr>\n",
       "    <tr>\n",
       "      <th>559</th>\n",
       "      <td>0.025141</td>\n",
       "      <td>(shopping bags, tropical fruit, whole milk)</td>\n",
       "    </tr>\n",
       "    <tr>\n",
       "      <th>524</th>\n",
       "      <td>0.025141</td>\n",
       "      <td>(whole milk, pastry, root vegetables)</td>\n",
       "    </tr>\n",
       "    <tr>\n",
       "      <th>224</th>\n",
       "      <td>0.025398</td>\n",
       "      <td>(cream cheese , root vegetables)</td>\n",
       "    </tr>\n",
       "    <tr>\n",
       "      <th>217</th>\n",
       "      <td>0.025398</td>\n",
       "      <td>(sausage, coffee)</td>\n",
       "    </tr>\n",
       "    <tr>\n",
       "      <th>204</th>\n",
       "      <td>0.025398</td>\n",
       "      <td>(citrus fruit, pork)</td>\n",
       "    </tr>\n",
       "    <tr>\n",
       "      <th>302</th>\n",
       "      <td>0.025398</td>\n",
       "      <td>(margarine, tropical fruit)</td>\n",
       "    </tr>\n",
       "    <tr>\n",
       "      <th>167</th>\n",
       "      <td>0.025398</td>\n",
       "      <td>(rolls/buns, butter milk)</td>\n",
       "    </tr>\n",
       "    <tr>\n",
       "      <th>473</th>\n",
       "      <td>0.025398</td>\n",
       "      <td>(curd, yogurt, whole milk)</td>\n",
       "    </tr>\n",
       "    <tr>\n",
       "      <th>476</th>\n",
       "      <td>0.025654</td>\n",
       "      <td>(domestic eggs, yogurt, whole milk)</td>\n",
       "    </tr>\n",
       "    <tr>\n",
       "      <th>462</th>\n",
       "      <td>0.025654</td>\n",
       "      <td>(citrus fruit, soda, rolls/buns)</td>\n",
       "    </tr>\n",
       "    <tr>\n",
       "      <th>434</th>\n",
       "      <td>0.025654</td>\n",
       "      <td>(tropical fruit, bottled water, other vegetables)</td>\n",
       "    </tr>\n",
       "    <tr>\n",
       "      <th>186</th>\n",
       "      <td>0.025654</td>\n",
       "      <td>(chewing gum, whole milk)</td>\n",
       "    </tr>\n",
       "    <tr>\n",
       "      <th>88</th>\n",
       "      <td>0.025654</td>\n",
       "      <td>(beef, sausage)</td>\n",
       "    </tr>\n",
       "    <tr>\n",
       "      <th>171</th>\n",
       "      <td>0.025654</td>\n",
       "      <td>(canned beer, domestic eggs)</td>\n",
       "    </tr>\n",
       "  </tbody>\n",
       "</table>\n",
       "</div>"
      ],
      "text/plain": [
       "      support                                           itemsets\n",
       "161  0.025141                            (shopping bags, butter)\n",
       "69   0.025141                                    (spread cheese)\n",
       "405  0.025141                        (sliced cheese, whole milk)\n",
       "412  0.025141                        (specialty bar, whole milk)\n",
       "85   0.025141                                  (beef, pip fruit)\n",
       "248  0.025141                     (shopping bags, domestic eggs)\n",
       "467  0.025141         (citrus fruit, tropical fruit, whole milk)\n",
       "480  0.025141                  (frankfurter, yogurt, whole milk)\n",
       "119  0.025141                         (chocolate, bottled water)\n",
       "239  0.025141                         (dessert, root vegetables)\n",
       "540  0.025141                (shopping bags, yogurt, rolls/buns)\n",
       "559  0.025141        (shopping bags, tropical fruit, whole milk)\n",
       "524  0.025141              (whole milk, pastry, root vegetables)\n",
       "224  0.025398                   (cream cheese , root vegetables)\n",
       "217  0.025398                                  (sausage, coffee)\n",
       "204  0.025398                               (citrus fruit, pork)\n",
       "302  0.025398                        (margarine, tropical fruit)\n",
       "167  0.025398                          (rolls/buns, butter milk)\n",
       "473  0.025398                         (curd, yogurt, whole milk)\n",
       "476  0.025654                (domestic eggs, yogurt, whole milk)\n",
       "462  0.025654                   (citrus fruit, soda, rolls/buns)\n",
       "434  0.025654  (tropical fruit, bottled water, other vegetables)\n",
       "186  0.025654                          (chewing gum, whole milk)\n",
       "88   0.025654                                    (beef, sausage)\n",
       "171  0.025654                       (canned beer, domestic eggs)"
      ]
     },
     "execution_count": 72,
     "metadata": {},
     "output_type": "execute_result"
    }
   ],
   "source": [
    "# Finding the most frequent items sold together\n",
    "\n",
    "frequent_itemsets = apriori(baskets_final, min_support=0.025, use_colnames=True, max_len=3).sort_values(by='support')\n",
    "frequent_itemsets.head(25)"
   ]
  },
  {
   "cell_type": "code",
   "execution_count": 73,
   "id": "a44f0d62",
   "metadata": {},
   "outputs": [
    {
     "name": "stderr",
     "output_type": "stream",
     "text": [
      "C:\\Users\\acer\\anaconda3\\lib\\site-packages\\ipykernel\\ipkernel.py:287: DeprecationWarning: `should_run_async` will not call `transform_cell` automatically in the future. Please pass the result to `transformed_cell` argument and any exception that happen during thetransform in `preprocessing_exc_tuple` in IPython 7.17 and above.\n",
      "  and should_run_async(code)\n"
     ]
    },
    {
     "data": {
      "text/html": [
       "<div>\n",
       "<style scoped>\n",
       "    .dataframe tbody tr th:only-of-type {\n",
       "        vertical-align: middle;\n",
       "    }\n",
       "\n",
       "    .dataframe tbody tr th {\n",
       "        vertical-align: top;\n",
       "    }\n",
       "\n",
       "    .dataframe thead th {\n",
       "        text-align: right;\n",
       "    }\n",
       "</style>\n",
       "<table border=\"1\" class=\"dataframe\">\n",
       "  <thead>\n",
       "    <tr style=\"text-align: right;\">\n",
       "      <th></th>\n",
       "      <th>antecedents</th>\n",
       "      <th>consequents</th>\n",
       "      <th>support</th>\n",
       "      <th>confidence</th>\n",
       "      <th>lift</th>\n",
       "    </tr>\n",
       "  </thead>\n",
       "  <tbody>\n",
       "    <tr>\n",
       "      <th>877</th>\n",
       "      <td>(sausage)</td>\n",
       "      <td>(yogurt, rolls/buns)</td>\n",
       "      <td>0.035659</td>\n",
       "      <td>0.173101</td>\n",
       "      <td>1.554717</td>\n",
       "    </tr>\n",
       "    <tr>\n",
       "      <th>876</th>\n",
       "      <td>(yogurt, rolls/buns)</td>\n",
       "      <td>(sausage)</td>\n",
       "      <td>0.035659</td>\n",
       "      <td>0.320276</td>\n",
       "      <td>1.554717</td>\n",
       "    </tr>\n",
       "    <tr>\n",
       "      <th>455</th>\n",
       "      <td>(root vegetables, whole milk)</td>\n",
       "      <td>(shopping bags)</td>\n",
       "      <td>0.029246</td>\n",
       "      <td>0.258503</td>\n",
       "      <td>1.536046</td>\n",
       "    </tr>\n",
       "    <tr>\n",
       "      <th>458</th>\n",
       "      <td>(shopping bags)</td>\n",
       "      <td>(root vegetables, whole milk)</td>\n",
       "      <td>0.029246</td>\n",
       "      <td>0.173780</td>\n",
       "      <td>1.536046</td>\n",
       "    </tr>\n",
       "    <tr>\n",
       "      <th>878</th>\n",
       "      <td>(yogurt)</td>\n",
       "      <td>(sausage, rolls/buns)</td>\n",
       "      <td>0.035659</td>\n",
       "      <td>0.126020</td>\n",
       "      <td>1.530298</td>\n",
       "    </tr>\n",
       "    <tr>\n",
       "      <th>875</th>\n",
       "      <td>(sausage, rolls/buns)</td>\n",
       "      <td>(yogurt)</td>\n",
       "      <td>0.035659</td>\n",
       "      <td>0.433022</td>\n",
       "      <td>1.530298</td>\n",
       "    </tr>\n",
       "    <tr>\n",
       "      <th>944</th>\n",
       "      <td>(yogurt, other vegetables)</td>\n",
       "      <td>(sausage)</td>\n",
       "      <td>0.037199</td>\n",
       "      <td>0.309168</td>\n",
       "      <td>1.500795</td>\n",
       "    </tr>\n",
       "    <tr>\n",
       "      <th>945</th>\n",
       "      <td>(sausage)</td>\n",
       "      <td>(yogurt, other vegetables)</td>\n",
       "      <td>0.037199</td>\n",
       "      <td>0.180573</td>\n",
       "      <td>1.500795</td>\n",
       "    </tr>\n",
       "    <tr>\n",
       "      <th>631</th>\n",
       "      <td>(shopping bags)</td>\n",
       "      <td>(soda, other vegetables)</td>\n",
       "      <td>0.031042</td>\n",
       "      <td>0.184451</td>\n",
       "      <td>1.485518</td>\n",
       "    </tr>\n",
       "    <tr>\n",
       "      <th>630</th>\n",
       "      <td>(soda, other vegetables)</td>\n",
       "      <td>(shopping bags)</td>\n",
       "      <td>0.031042</td>\n",
       "      <td>0.250000</td>\n",
       "      <td>1.485518</td>\n",
       "    </tr>\n",
       "    <tr>\n",
       "      <th>1193</th>\n",
       "      <td>(sausage, whole milk)</td>\n",
       "      <td>(yogurt)</td>\n",
       "      <td>0.044895</td>\n",
       "      <td>0.419664</td>\n",
       "      <td>1.483093</td>\n",
       "    </tr>\n",
       "    <tr>\n",
       "      <th>1196</th>\n",
       "      <td>(yogurt)</td>\n",
       "      <td>(sausage, whole milk)</td>\n",
       "      <td>0.044895</td>\n",
       "      <td>0.158658</td>\n",
       "      <td>1.483093</td>\n",
       "    </tr>\n",
       "    <tr>\n",
       "      <th>319</th>\n",
       "      <td>(whole milk, root vegetables)</td>\n",
       "      <td>(canned beer)</td>\n",
       "      <td>0.027707</td>\n",
       "      <td>0.244898</td>\n",
       "      <td>1.482317</td>\n",
       "    </tr>\n",
       "    <tr>\n",
       "      <th>322</th>\n",
       "      <td>(canned beer)</td>\n",
       "      <td>(whole milk, root vegetables)</td>\n",
       "      <td>0.027707</td>\n",
       "      <td>0.167702</td>\n",
       "      <td>1.482317</td>\n",
       "    </tr>\n",
       "    <tr>\n",
       "      <th>882</th>\n",
       "      <td>(soda, rolls/buns)</td>\n",
       "      <td>(sausage)</td>\n",
       "      <td>0.035916</td>\n",
       "      <td>0.299786</td>\n",
       "      <td>1.455249</td>\n",
       "    </tr>\n",
       "    <tr>\n",
       "      <th>883</th>\n",
       "      <td>(sausage)</td>\n",
       "      <td>(soda, rolls/buns)</td>\n",
       "      <td>0.035916</td>\n",
       "      <td>0.174346</td>\n",
       "      <td>1.455249</td>\n",
       "    </tr>\n",
       "    <tr>\n",
       "      <th>200</th>\n",
       "      <td>(soda, whole milk)</td>\n",
       "      <td>(curd)</td>\n",
       "      <td>0.026424</td>\n",
       "      <td>0.174873</td>\n",
       "      <td>1.447248</td>\n",
       "    </tr>\n",
       "    <tr>\n",
       "      <th>201</th>\n",
       "      <td>(curd)</td>\n",
       "      <td>(soda, whole milk)</td>\n",
       "      <td>0.026424</td>\n",
       "      <td>0.218684</td>\n",
       "      <td>1.447248</td>\n",
       "    </tr>\n",
       "    <tr>\n",
       "      <th>1195</th>\n",
       "      <td>(sausage)</td>\n",
       "      <td>(yogurt, whole milk)</td>\n",
       "      <td>0.044895</td>\n",
       "      <td>0.217933</td>\n",
       "      <td>1.447192</td>\n",
       "    </tr>\n",
       "    <tr>\n",
       "      <th>1194</th>\n",
       "      <td>(yogurt, whole milk)</td>\n",
       "      <td>(sausage)</td>\n",
       "      <td>0.044895</td>\n",
       "      <td>0.298126</td>\n",
       "      <td>1.447192</td>\n",
       "    </tr>\n",
       "    <tr>\n",
       "      <th>902</th>\n",
       "      <td>(soda, whole milk)</td>\n",
       "      <td>(shopping bags)</td>\n",
       "      <td>0.036685</td>\n",
       "      <td>0.242784</td>\n",
       "      <td>1.442643</td>\n",
       "    </tr>\n",
       "    <tr>\n",
       "      <th>903</th>\n",
       "      <td>(shopping bags)</td>\n",
       "      <td>(soda, whole milk)</td>\n",
       "      <td>0.036685</td>\n",
       "      <td>0.217988</td>\n",
       "      <td>1.442643</td>\n",
       "    </tr>\n",
       "    <tr>\n",
       "      <th>248</th>\n",
       "      <td>(yogurt)</td>\n",
       "      <td>(whole milk, butter)</td>\n",
       "      <td>0.026937</td>\n",
       "      <td>0.095195</td>\n",
       "      <td>1.438255</td>\n",
       "    </tr>\n",
       "    <tr>\n",
       "      <th>245</th>\n",
       "      <td>(whole milk, butter)</td>\n",
       "      <td>(yogurt)</td>\n",
       "      <td>0.026937</td>\n",
       "      <td>0.406977</td>\n",
       "      <td>1.438255</td>\n",
       "    </tr>\n",
       "    <tr>\n",
       "      <th>943</th>\n",
       "      <td>(sausage, other vegetables)</td>\n",
       "      <td>(yogurt)</td>\n",
       "      <td>0.037199</td>\n",
       "      <td>0.400552</td>\n",
       "      <td>1.415552</td>\n",
       "    </tr>\n",
       "  </tbody>\n",
       "</table>\n",
       "</div>"
      ],
      "text/plain": [
       "                        antecedents                    consequents   support  \\\n",
       "877                       (sausage)           (yogurt, rolls/buns)  0.035659   \n",
       "876            (yogurt, rolls/buns)                      (sausage)  0.035659   \n",
       "455   (root vegetables, whole milk)                (shopping bags)  0.029246   \n",
       "458                 (shopping bags)  (root vegetables, whole milk)  0.029246   \n",
       "878                        (yogurt)          (sausage, rolls/buns)  0.035659   \n",
       "875           (sausage, rolls/buns)                       (yogurt)  0.035659   \n",
       "944      (yogurt, other vegetables)                      (sausage)  0.037199   \n",
       "945                       (sausage)     (yogurt, other vegetables)  0.037199   \n",
       "631                 (shopping bags)       (soda, other vegetables)  0.031042   \n",
       "630        (soda, other vegetables)                (shopping bags)  0.031042   \n",
       "1193          (sausage, whole milk)                       (yogurt)  0.044895   \n",
       "1196                       (yogurt)          (sausage, whole milk)  0.044895   \n",
       "319   (whole milk, root vegetables)                  (canned beer)  0.027707   \n",
       "322                   (canned beer)  (whole milk, root vegetables)  0.027707   \n",
       "882              (soda, rolls/buns)                      (sausage)  0.035916   \n",
       "883                       (sausage)             (soda, rolls/buns)  0.035916   \n",
       "200              (soda, whole milk)                         (curd)  0.026424   \n",
       "201                          (curd)             (soda, whole milk)  0.026424   \n",
       "1195                      (sausage)           (yogurt, whole milk)  0.044895   \n",
       "1194           (yogurt, whole milk)                      (sausage)  0.044895   \n",
       "902              (soda, whole milk)                (shopping bags)  0.036685   \n",
       "903                 (shopping bags)             (soda, whole milk)  0.036685   \n",
       "248                        (yogurt)           (whole milk, butter)  0.026937   \n",
       "245            (whole milk, butter)                       (yogurt)  0.026937   \n",
       "943     (sausage, other vegetables)                       (yogurt)  0.037199   \n",
       "\n",
       "      confidence      lift  \n",
       "877     0.173101  1.554717  \n",
       "876     0.320276  1.554717  \n",
       "455     0.258503  1.536046  \n",
       "458     0.173780  1.536046  \n",
       "878     0.126020  1.530298  \n",
       "875     0.433022  1.530298  \n",
       "944     0.309168  1.500795  \n",
       "945     0.180573  1.500795  \n",
       "631     0.184451  1.485518  \n",
       "630     0.250000  1.485518  \n",
       "1193    0.419664  1.483093  \n",
       "1196    0.158658  1.483093  \n",
       "319     0.244898  1.482317  \n",
       "322     0.167702  1.482317  \n",
       "882     0.299786  1.455249  \n",
       "883     0.174346  1.455249  \n",
       "200     0.174873  1.447248  \n",
       "201     0.218684  1.447248  \n",
       "1195    0.217933  1.447192  \n",
       "1194    0.298126  1.447192  \n",
       "902     0.242784  1.442643  \n",
       "903     0.217988  1.442643  \n",
       "248     0.095195  1.438255  \n",
       "245     0.406977  1.438255  \n",
       "943     0.400552  1.415552  "
      ]
     },
     "execution_count": 73,
     "metadata": {},
     "output_type": "execute_result"
    }
   ],
   "source": [
    "# Creating association rules for indicating astecedent and consequent items\n",
    "rules = association_rules(frequent_itemsets, metric=\"lift\", min_threshold=1).sort_values('lift', ascending=False)\n",
    "rules = rules[['antecedents', 'consequents', 'support', 'confidence', 'lift']]\n",
    "rules.head(25)"
   ]
  },
  {
   "cell_type": "markdown",
   "id": "9d8b04a9",
   "metadata": {},
   "source": [
    "## As we can see from the result above:\n",
    "\n",
    "### sausage --> yogurt, rolls/buns\n",
    "\n",
    "### root vegetables, whole milk --> shopping bags\n",
    "\n",
    "### rolls/buns, soda --> sausage\n",
    "\n",
    "### butter, whole milk --> yogurt, and etc. have strong relationships."
   ]
  },
  {
   "cell_type": "code",
   "execution_count": null,
   "id": "bd5e088e",
   "metadata": {},
   "outputs": [],
   "source": []
  },
  {
   "cell_type": "markdown",
   "id": "6fd3ef91",
   "metadata": {},
   "source": [
    "# RFM Analysis"
   ]
  },
  {
   "cell_type": "code",
   "execution_count": 74,
   "id": "d758c9ea",
   "metadata": {},
   "outputs": [
    {
     "name": "stderr",
     "output_type": "stream",
     "text": [
      "C:\\Users\\acer\\anaconda3\\lib\\site-packages\\ipykernel\\ipkernel.py:287: DeprecationWarning: `should_run_async` will not call `transform_cell` automatically in the future. Please pass the result to `transformed_cell` argument and any exception that happen during thetransform in `preprocessing_exc_tuple` in IPython 7.17 and above.\n",
      "  and should_run_async(code)\n"
     ]
    },
    {
     "data": {
      "text/html": [
       "<div>\n",
       "<style scoped>\n",
       "    .dataframe tbody tr th:only-of-type {\n",
       "        vertical-align: middle;\n",
       "    }\n",
       "\n",
       "    .dataframe tbody tr th {\n",
       "        vertical-align: top;\n",
       "    }\n",
       "\n",
       "    .dataframe thead th {\n",
       "        text-align: right;\n",
       "    }\n",
       "</style>\n",
       "<table border=\"1\" class=\"dataframe\">\n",
       "  <thead>\n",
       "    <tr style=\"text-align: right;\">\n",
       "      <th></th>\n",
       "      <th>Customer_ID</th>\n",
       "      <th>LastDate</th>\n",
       "    </tr>\n",
       "  </thead>\n",
       "  <tbody>\n",
       "    <tr>\n",
       "      <th>0</th>\n",
       "      <td>1000</td>\n",
       "      <td>2015-11-25</td>\n",
       "    </tr>\n",
       "    <tr>\n",
       "      <th>1</th>\n",
       "      <td>1001</td>\n",
       "      <td>2015-04-14</td>\n",
       "    </tr>\n",
       "    <tr>\n",
       "      <th>2</th>\n",
       "      <td>1002</td>\n",
       "      <td>2015-08-30</td>\n",
       "    </tr>\n",
       "    <tr>\n",
       "      <th>3</th>\n",
       "      <td>1003</td>\n",
       "      <td>2015-10-02</td>\n",
       "    </tr>\n",
       "    <tr>\n",
       "      <th>4</th>\n",
       "      <td>1004</td>\n",
       "      <td>2015-02-12</td>\n",
       "    </tr>\n",
       "  </tbody>\n",
       "</table>\n",
       "</div>"
      ],
      "text/plain": [
       "   Customer_ID   LastDate\n",
       "0         1000 2015-11-25\n",
       "1         1001 2015-04-14\n",
       "2         1002 2015-08-30\n",
       "3         1003 2015-10-02\n",
       "4         1004 2015-02-12"
      ]
     },
     "execution_count": 74,
     "metadata": {},
     "output_type": "execute_result"
    }
   ],
   "source": [
    "# Calculating the Recency\n",
    "\n",
    "# Finding last purchase date of each customer\n",
    "Recency = df.groupby(by='Customer_ID')['Date'].max().reset_index()\n",
    "Recency.columns = ['Customer_ID', 'LastDate']\n",
    "Recency.head()"
   ]
  },
  {
   "cell_type": "code",
   "execution_count": 75,
   "id": "6e8ea3db",
   "metadata": {},
   "outputs": [
    {
     "name": "stderr",
     "output_type": "stream",
     "text": [
      "C:\\Users\\acer\\anaconda3\\lib\\site-packages\\ipykernel\\ipkernel.py:287: DeprecationWarning: `should_run_async` will not call `transform_cell` automatically in the future. Please pass the result to `transformed_cell` argument and any exception that happen during thetransform in `preprocessing_exc_tuple` in IPython 7.17 and above.\n",
      "  and should_run_async(code)\n"
     ]
    },
    {
     "data": {
      "text/plain": [
       "Timestamp('2015-12-30 00:00:00')"
      ]
     },
     "execution_count": 75,
     "metadata": {},
     "output_type": "execute_result"
    }
   ],
   "source": [
    "# Finding last date for our dataset\n",
    "last_date_dataset = Recency['LastDate'].max()\n",
    "last_date_dataset"
   ]
  },
  {
   "cell_type": "code",
   "execution_count": 76,
   "id": "161ac8b9",
   "metadata": {},
   "outputs": [
    {
     "name": "stderr",
     "output_type": "stream",
     "text": [
      "C:\\Users\\acer\\anaconda3\\lib\\site-packages\\ipykernel\\ipkernel.py:287: DeprecationWarning: `should_run_async` will not call `transform_cell` automatically in the future. Please pass the result to `transformed_cell` argument and any exception that happen during thetransform in `preprocessing_exc_tuple` in IPython 7.17 and above.\n",
      "  and should_run_async(code)\n"
     ]
    },
    {
     "data": {
      "text/html": [
       "<div>\n",
       "<style scoped>\n",
       "    .dataframe tbody tr th:only-of-type {\n",
       "        vertical-align: middle;\n",
       "    }\n",
       "\n",
       "    .dataframe tbody tr th {\n",
       "        vertical-align: top;\n",
       "    }\n",
       "\n",
       "    .dataframe thead th {\n",
       "        text-align: right;\n",
       "    }\n",
       "</style>\n",
       "<table border=\"1\" class=\"dataframe\">\n",
       "  <thead>\n",
       "    <tr style=\"text-align: right;\">\n",
       "      <th></th>\n",
       "      <th>Customer_ID</th>\n",
       "      <th>LastDate</th>\n",
       "      <th>Recency</th>\n",
       "    </tr>\n",
       "  </thead>\n",
       "  <tbody>\n",
       "    <tr>\n",
       "      <th>0</th>\n",
       "      <td>1000</td>\n",
       "      <td>2015-11-25</td>\n",
       "      <td>35</td>\n",
       "    </tr>\n",
       "    <tr>\n",
       "      <th>1</th>\n",
       "      <td>1001</td>\n",
       "      <td>2015-04-14</td>\n",
       "      <td>260</td>\n",
       "    </tr>\n",
       "    <tr>\n",
       "      <th>2</th>\n",
       "      <td>1002</td>\n",
       "      <td>2015-08-30</td>\n",
       "      <td>122</td>\n",
       "    </tr>\n",
       "    <tr>\n",
       "      <th>3</th>\n",
       "      <td>1003</td>\n",
       "      <td>2015-10-02</td>\n",
       "      <td>89</td>\n",
       "    </tr>\n",
       "    <tr>\n",
       "      <th>4</th>\n",
       "      <td>1004</td>\n",
       "      <td>2015-02-12</td>\n",
       "      <td>321</td>\n",
       "    </tr>\n",
       "  </tbody>\n",
       "</table>\n",
       "</div>"
      ],
      "text/plain": [
       "   Customer_ID   LastDate  Recency\n",
       "0         1000 2015-11-25       35\n",
       "1         1001 2015-04-14      260\n",
       "2         1002 2015-08-30      122\n",
       "3         1003 2015-10-02       89\n",
       "4         1004 2015-02-12      321"
      ]
     },
     "execution_count": 76,
     "metadata": {},
     "output_type": "execute_result"
    }
   ],
   "source": [
    "# Calculating Recency by subtracting (last transaction date of dataset) and (last purchase date of each customer)\n",
    "Recency['Recency'] = Recency['LastDate'].apply(lambda x: (last_date_dataset - x).days)\n",
    "Recency.head()"
   ]
  },
  {
   "cell_type": "markdown",
   "id": "c7e447f9",
   "metadata": {},
   "source": [
    "### Recency Distribution of the Customers - graph"
   ]
  },
  {
   "cell_type": "code",
   "execution_count": null,
   "id": "88847a0e",
   "metadata": {},
   "outputs": [],
   "source": []
  },
  {
   "cell_type": "markdown",
   "id": "09a96ae6",
   "metadata": {},
   "source": [
    "## Visit Frequency"
   ]
  },
  {
   "cell_type": "code",
   "execution_count": 82,
   "id": "90f59610",
   "metadata": {},
   "outputs": [
    {
     "name": "stderr",
     "output_type": "stream",
     "text": [
      "C:\\Users\\acer\\anaconda3\\lib\\site-packages\\ipykernel\\ipkernel.py:287: DeprecationWarning: `should_run_async` will not call `transform_cell` automatically in the future. Please pass the result to `transformed_cell` argument and any exception that happen during thetransform in `preprocessing_exc_tuple` in IPython 7.17 and above.\n",
      "  and should_run_async(code)\n"
     ]
    },
    {
     "data": {
      "text/html": [
       "<div>\n",
       "<style scoped>\n",
       "    .dataframe tbody tr th:only-of-type {\n",
       "        vertical-align: middle;\n",
       "    }\n",
       "\n",
       "    .dataframe tbody tr th {\n",
       "        vertical-align: top;\n",
       "    }\n",
       "\n",
       "    .dataframe thead th {\n",
       "        text-align: right;\n",
       "    }\n",
       "</style>\n",
       "<table border=\"1\" class=\"dataframe\">\n",
       "  <thead>\n",
       "    <tr style=\"text-align: right;\">\n",
       "      <th></th>\n",
       "      <th>Customer_ID</th>\n",
       "      <th>Visit_Frequency</th>\n",
       "    </tr>\n",
       "  </thead>\n",
       "  <tbody>\n",
       "    <tr>\n",
       "      <th>0</th>\n",
       "      <td>1000</td>\n",
       "      <td>5</td>\n",
       "    </tr>\n",
       "    <tr>\n",
       "      <th>1</th>\n",
       "      <td>1001</td>\n",
       "      <td>5</td>\n",
       "    </tr>\n",
       "    <tr>\n",
       "      <th>2</th>\n",
       "      <td>1002</td>\n",
       "      <td>4</td>\n",
       "    </tr>\n",
       "    <tr>\n",
       "      <th>3</th>\n",
       "      <td>1003</td>\n",
       "      <td>4</td>\n",
       "    </tr>\n",
       "    <tr>\n",
       "      <th>4</th>\n",
       "      <td>1004</td>\n",
       "      <td>8</td>\n",
       "    </tr>\n",
       "  </tbody>\n",
       "</table>\n",
       "</div>"
      ],
      "text/plain": [
       "   Customer_ID  Visit_Frequency\n",
       "0         1000                5\n",
       "1         1001                5\n",
       "2         1002                4\n",
       "3         1003                4\n",
       "4         1004                8"
      ]
     },
     "execution_count": 82,
     "metadata": {},
     "output_type": "execute_result"
    }
   ],
   "source": [
    "# Frequency of the customer visits\n",
    "Frequency = df.drop_duplicates(['Date', 'Customer_ID']).groupby(by=['Customer_ID'])['Date'].count().reset_index()\n",
    "Frequency.columns = ['Customer_ID', 'Visit_Frequency']\n",
    "Frequency.head()"
   ]
  },
  {
   "cell_type": "markdown",
   "id": "a2136b44",
   "metadata": {},
   "source": [
    "### Visit Frequency Distribution of the Customers - graph"
   ]
  },
  {
   "cell_type": "code",
   "execution_count": null,
   "id": "17399c98",
   "metadata": {},
   "outputs": [],
   "source": []
  },
  {
   "cell_type": "markdown",
   "id": "bc2e7a4a",
   "metadata": {},
   "source": [
    "## Monetary\n",
    "### Due to our dataset, we have no data regarding the price of the products. Therefore I will consider the number of item bought per user as the Monetary value."
   ]
  },
  {
   "cell_type": "code",
   "execution_count": 84,
   "id": "bd5881bf",
   "metadata": {},
   "outputs": [
    {
     "name": "stderr",
     "output_type": "stream",
     "text": [
      "C:\\Users\\acer\\anaconda3\\lib\\site-packages\\ipykernel\\ipkernel.py:287: DeprecationWarning: `should_run_async` will not call `transform_cell` automatically in the future. Please pass the result to `transformed_cell` argument and any exception that happen during thetransform in `preprocessing_exc_tuple` in IPython 7.17 and above.\n",
      "  and should_run_async(code)\n"
     ]
    },
    {
     "data": {
      "text/html": [
       "<div>\n",
       "<style scoped>\n",
       "    .dataframe tbody tr th:only-of-type {\n",
       "        vertical-align: middle;\n",
       "    }\n",
       "\n",
       "    .dataframe tbody tr th {\n",
       "        vertical-align: top;\n",
       "    }\n",
       "\n",
       "    .dataframe thead th {\n",
       "        text-align: right;\n",
       "    }\n",
       "</style>\n",
       "<table border=\"1\" class=\"dataframe\">\n",
       "  <thead>\n",
       "    <tr style=\"text-align: right;\">\n",
       "      <th></th>\n",
       "      <th>Customer_ID</th>\n",
       "      <th>Monetary</th>\n",
       "    </tr>\n",
       "  </thead>\n",
       "  <tbody>\n",
       "    <tr>\n",
       "      <th>0</th>\n",
       "      <td>1000</td>\n",
       "      <td>13</td>\n",
       "    </tr>\n",
       "    <tr>\n",
       "      <th>1</th>\n",
       "      <td>1001</td>\n",
       "      <td>12</td>\n",
       "    </tr>\n",
       "    <tr>\n",
       "      <th>2</th>\n",
       "      <td>1002</td>\n",
       "      <td>8</td>\n",
       "    </tr>\n",
       "    <tr>\n",
       "      <th>3</th>\n",
       "      <td>1003</td>\n",
       "      <td>8</td>\n",
       "    </tr>\n",
       "    <tr>\n",
       "      <th>4</th>\n",
       "      <td>1004</td>\n",
       "      <td>21</td>\n",
       "    </tr>\n",
       "  </tbody>\n",
       "</table>\n",
       "</div>"
      ],
      "text/plain": [
       "   Customer_ID  Monetary\n",
       "0         1000        13\n",
       "1         1001        12\n",
       "2         1002         8\n",
       "3         1003         8\n",
       "4         1004        21"
      ]
     },
     "execution_count": 84,
     "metadata": {},
     "output_type": "execute_result"
    }
   ],
   "source": [
    "Monetary = df.groupby(by=\"Customer_ID\")['Item Name'].count().reset_index()\n",
    "Monetary.columns = ['Customer_ID', 'Monetary']\n",
    "Monetary.head()"
   ]
  },
  {
   "cell_type": "code",
   "execution_count": null,
   "id": "6459f7a0",
   "metadata": {},
   "outputs": [],
   "source": [
    "# I assumed each item has equal price and price is 10\n",
    "Monetary['Monetary'] = Monetary['Monetary'] * 10\n",
    "Monetary.head()"
   ]
  },
  {
   "cell_type": "markdown",
   "id": "f26d2523",
   "metadata": {},
   "source": [
    "### Monetary Distribution of the Customers"
   ]
  },
  {
   "cell_type": "code",
   "execution_count": null,
   "id": "d6d33377",
   "metadata": {},
   "outputs": [],
   "source": [
    "fig = px.histogram(Monetary, x='Monetary', opacity=0.85, marginal='box',\n",
    "                   labels={'itemName': 'Monetary'})\n",
    "fig.update_traces(marker=dict(line=dict(color='#000000', width=1)))\n",
    "fig.update_layout(title_text='Monetary Distribution of the Customers',\n",
    "                  title_x=0.5, title_font=dict(size=20))\n",
    "fig.show()"
   ]
  },
  {
   "cell_type": "markdown",
   "id": "600fceb4",
   "metadata": {},
   "source": [
    "## Combinig the above matrices to form the RFM Matrix"
   ]
  },
  {
   "cell_type": "code",
   "execution_count": 86,
   "id": "2c21df14",
   "metadata": {},
   "outputs": [
    {
     "name": "stderr",
     "output_type": "stream",
     "text": [
      "C:\\Users\\acer\\anaconda3\\lib\\site-packages\\ipykernel\\ipkernel.py:287: DeprecationWarning: `should_run_async` will not call `transform_cell` automatically in the future. Please pass the result to `transformed_cell` argument and any exception that happen during thetransform in `preprocessing_exc_tuple` in IPython 7.17 and above.\n",
      "  and should_run_async(code)\n"
     ]
    },
    {
     "data": {
      "text/html": [
       "<div>\n",
       "<style scoped>\n",
       "    .dataframe tbody tr th:only-of-type {\n",
       "        vertical-align: middle;\n",
       "    }\n",
       "\n",
       "    .dataframe tbody tr th {\n",
       "        vertical-align: top;\n",
       "    }\n",
       "\n",
       "    .dataframe thead th {\n",
       "        text-align: right;\n",
       "    }\n",
       "</style>\n",
       "<table border=\"1\" class=\"dataframe\">\n",
       "  <thead>\n",
       "    <tr style=\"text-align: right;\">\n",
       "      <th></th>\n",
       "      <th>Customer_ID</th>\n",
       "      <th>Recency</th>\n",
       "      <th>Visit_Frequency</th>\n",
       "      <th>Monetary</th>\n",
       "    </tr>\n",
       "  </thead>\n",
       "  <tbody>\n",
       "    <tr>\n",
       "      <th>0</th>\n",
       "      <td>1000</td>\n",
       "      <td>35</td>\n",
       "      <td>5</td>\n",
       "      <td>13</td>\n",
       "    </tr>\n",
       "    <tr>\n",
       "      <th>1</th>\n",
       "      <td>1001</td>\n",
       "      <td>260</td>\n",
       "      <td>5</td>\n",
       "      <td>12</td>\n",
       "    </tr>\n",
       "    <tr>\n",
       "      <th>2</th>\n",
       "      <td>1002</td>\n",
       "      <td>122</td>\n",
       "      <td>4</td>\n",
       "      <td>8</td>\n",
       "    </tr>\n",
       "    <tr>\n",
       "      <th>3</th>\n",
       "      <td>1003</td>\n",
       "      <td>89</td>\n",
       "      <td>4</td>\n",
       "      <td>8</td>\n",
       "    </tr>\n",
       "    <tr>\n",
       "      <th>4</th>\n",
       "      <td>1004</td>\n",
       "      <td>321</td>\n",
       "      <td>8</td>\n",
       "      <td>21</td>\n",
       "    </tr>\n",
       "  </tbody>\n",
       "</table>\n",
       "</div>"
      ],
      "text/plain": [
       "   Customer_ID  Recency  Visit_Frequency  Monetary\n",
       "0         1000       35                5        13\n",
       "1         1001      260                5        12\n",
       "2         1002      122                4         8\n",
       "3         1003       89                4         8\n",
       "4         1004      321                8        21"
      ]
     },
     "execution_count": 86,
     "metadata": {},
     "output_type": "execute_result"
    }
   ],
   "source": [
    "# Combining all scores into one DataFrame\n",
    "RFM = pd.concat([Recency['Customer_ID'], Recency['Recency'], Frequency['Visit_Frequency'], Monetary['Monetary']], axis=1)\n",
    "RFM.head()"
   ]
  },
  {
   "cell_type": "code",
   "execution_count": null,
   "id": "81842933",
   "metadata": {},
   "outputs": [],
   "source": []
  }
 ],
 "metadata": {
  "kernelspec": {
   "display_name": "Python 3",
   "language": "python",
   "name": "python3"
  },
  "language_info": {
   "codemirror_mode": {
    "name": "ipython",
    "version": 3
   },
   "file_extension": ".py",
   "mimetype": "text/x-python",
   "name": "python",
   "nbconvert_exporter": "python",
   "pygments_lexer": "ipython3",
   "version": "3.8.8"
  }
 },
 "nbformat": 4,
 "nbformat_minor": 5
}
